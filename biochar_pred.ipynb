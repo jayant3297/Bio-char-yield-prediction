{
  "nbformat": 4,
  "nbformat_minor": 0,
  "metadata": {
    "colab": {
      "name": "biochar_pred.ipynb",
      "provenance": [],
      "collapsed_sections": [],
      "authorship_tag": "ABX9TyNotW3HdyhV56PktFILVFl/",
      "include_colab_link": true
    },
    "kernelspec": {
      "name": "python3",
      "display_name": "Python 3"
    }
  },
  "cells": [
    {
      "cell_type": "markdown",
      "metadata": {
        "id": "view-in-github",
        "colab_type": "text"
      },
      "source": [
        "<a href=\"https://colab.research.google.com/github/jayant3297/Bio-char-yield-prediction/blob/master/biochar_pred.ipynb\" target=\"_parent\"><img src=\"https://colab.research.google.com/assets/colab-badge.svg\" alt=\"Open In Colab\"/></a>"
      ]
    },
    {
      "cell_type": "markdown",
      "metadata": {
        "id": "vz_RJJsJBVTG"
      },
      "source": [
        "##Biochar yield predicition\n",
        "\n",
        "The objective of the project is to determinet the yield of the biomass using \n",
        "machine learning regression based models and Artificial Neural networks"
      ]
    },
    {
      "cell_type": "markdown",
      "metadata": {
        "id": "pY9laXVHBra_"
      },
      "source": [
        "### Importing libraries"
      ]
    },
    {
      "cell_type": "code",
      "metadata": {
        "id": "LUGU1UfQ_3wk",
        "outputId": "58589399-a319-43bb-d8e9-ce9baf469e4f",
        "colab": {
          "base_uri": "https://localhost:8080/",
          "height": 71
        }
      },
      "source": [
        "import pandas as pd\n",
        "import numpy as np\n",
        "from pandas import DataFrame\n",
        "import matplotlib.pyplot as plt\n",
        "from sklearn import metrics\n",
        "import seaborn as sns"
      ],
      "execution_count": null,
      "outputs": [
        {
          "output_type": "stream",
          "text": [
            "/usr/local/lib/python3.6/dist-packages/statsmodels/tools/_testing.py:19: FutureWarning: pandas.util.testing is deprecated. Use the functions in the public API at pandas.testing instead.\n",
            "  import pandas.util.testing as tm\n"
          ],
          "name": "stderr"
        }
      ]
    },
    {
      "cell_type": "markdown",
      "metadata": {
        "id": "iDA7UyQ4BwlZ"
      },
      "source": [
        "## Loading the data set to the project"
      ]
    },
    {
      "cell_type": "code",
      "metadata": {
        "id": "QLqTmF63HlFC"
      },
      "source": [
        "data=pd.read_csv(\"/content/biochar_pred - Sheet1.csv\")"
      ],
      "execution_count": null,
      "outputs": []
    },
    {
      "cell_type": "markdown",
      "metadata": {
        "id": "SlTQwIOGB3BV"
      },
      "source": [
        "We can that the data consist og 59 rows and 20 features.\n",
        "The data is obtained from different reseach papers (see References)"
      ]
    },
    {
      "cell_type": "code",
      "metadata": {
        "id": "Rbe4LirnIHSs",
        "outputId": "c6890df0-f021-466b-b016-e0f09e77efd5",
        "colab": {
          "base_uri": "https://localhost:8080/",
          "height": 34
        }
      },
      "source": [
        "data.shape"
      ],
      "execution_count": null,
      "outputs": [
        {
          "output_type": "execute_result",
          "data": {
            "text/plain": [
              "(59, 20)"
            ]
          },
          "metadata": {
            "tags": []
          },
          "execution_count": 3
        }
      ]
    },
    {
      "cell_type": "markdown",
      "metadata": {
        "id": "SPOfbT6NCFOM"
      },
      "source": [
        "Here we can see how the data looks\n",
        "volatile_bm: percentage of volatiles in biomass\n",
        "ash_bm: percentage of volatiles in biomass\t\n",
        "fixed carbon_bm\t: percentage of fixed carbon in biomass\n",
        "\n",
        "C_bm: percentage of carbon in biomass\t\n",
        "H_bm: percentage of hydrogen in biomass\t\n",
        "N_bm: percentage of nitrogen in biomass\t\n",
        "O_bm: percentage of oxygen in biomass\t\n",
        "HHV_bm: HHV in biomass in MJ/kg\n",
        "temp: temperature in C\n",
        "\n",
        "heating rate: Rate of heating in C/min\n",
        "\n",
        "C_bc\tH_bc\tN_bc\tO_bc: percentage of C,N,H,O in biochar\n",
        "volatile_bc\tash_bc\tfixed carbon_bc: percentage volatiles,ash and fixed carbon in biochar\t\n",
        "\n",
        "HHV_bc: HHV of biochar in MJ/kg\n",
        "yield\t: Yield of biochar \n",
        "\n"
      ]
    },
    {
      "cell_type": "code",
      "metadata": {
        "id": "nkGL-sQBIJUs",
        "outputId": "81805c5f-ca21-4776-d2d7-95c39ec89e31",
        "colab": {
          "base_uri": "https://localhost:8080/",
          "height": 221
        }
      },
      "source": [
        "data.sample(5)"
      ],
      "execution_count": null,
      "outputs": [
        {
          "output_type": "execute_result",
          "data": {
            "text/html": [
              "<div>\n",
              "<style scoped>\n",
              "    .dataframe tbody tr th:only-of-type {\n",
              "        vertical-align: middle;\n",
              "    }\n",
              "\n",
              "    .dataframe tbody tr th {\n",
              "        vertical-align: top;\n",
              "    }\n",
              "\n",
              "    .dataframe thead th {\n",
              "        text-align: right;\n",
              "    }\n",
              "</style>\n",
              "<table border=\"1\" class=\"dataframe\">\n",
              "  <thead>\n",
              "    <tr style=\"text-align: right;\">\n",
              "      <th></th>\n",
              "      <th>volatile_bm</th>\n",
              "      <th>ash_bm</th>\n",
              "      <th>fixed carbon_bm</th>\n",
              "      <th>C_bm</th>\n",
              "      <th>H_bm</th>\n",
              "      <th>N_bm</th>\n",
              "      <th>O_bm</th>\n",
              "      <th>HHV_bm</th>\n",
              "      <th>temp</th>\n",
              "      <th>heating rate</th>\n",
              "      <th>C_bc</th>\n",
              "      <th>H_bc</th>\n",
              "      <th>N_bc</th>\n",
              "      <th>O_bc</th>\n",
              "      <th>volatile_bc</th>\n",
              "      <th>ash_bc</th>\n",
              "      <th>fixed carbon_bc</th>\n",
              "      <th>HHV_bc</th>\n",
              "      <th>yield</th>\n",
              "      <th>pH</th>\n",
              "    </tr>\n",
              "  </thead>\n",
              "  <tbody>\n",
              "    <tr>\n",
              "      <th>19</th>\n",
              "      <td>85.90</td>\n",
              "      <td>14.10</td>\n",
              "      <td>7.90</td>\n",
              "      <td>48.10</td>\n",
              "      <td>6.80</td>\n",
              "      <td>1.80</td>\n",
              "      <td>49.00</td>\n",
              "      <td>17.30</td>\n",
              "      <td>550</td>\n",
              "      <td>10.0</td>\n",
              "      <td>75.30</td>\n",
              "      <td>2.60</td>\n",
              "      <td>1.00</td>\n",
              "      <td>4.50</td>\n",
              "      <td>21.2</td>\n",
              "      <td>23.4</td>\n",
              "      <td>78.80</td>\n",
              "      <td>26.50</td>\n",
              "      <td>30.3</td>\n",
              "      <td>11.6</td>\n",
              "    </tr>\n",
              "    <tr>\n",
              "      <th>44</th>\n",
              "      <td>74.48</td>\n",
              "      <td>5.99</td>\n",
              "      <td>19.53</td>\n",
              "      <td>42.27</td>\n",
              "      <td>5.98</td>\n",
              "      <td>5.98</td>\n",
              "      <td>45.77</td>\n",
              "      <td>NaN</td>\n",
              "      <td>550</td>\n",
              "      <td>NaN</td>\n",
              "      <td>68.42</td>\n",
              "      <td>2.28</td>\n",
              "      <td>0.67</td>\n",
              "      <td>28.63</td>\n",
              "      <td>NaN</td>\n",
              "      <td>NaN</td>\n",
              "      <td>NaN</td>\n",
              "      <td>NaN</td>\n",
              "      <td>31.0</td>\n",
              "      <td>NaN</td>\n",
              "    </tr>\n",
              "    <tr>\n",
              "      <th>34</th>\n",
              "      <td>49.10</td>\n",
              "      <td>4.60</td>\n",
              "      <td>25.30</td>\n",
              "      <td>61.57</td>\n",
              "      <td>4.37</td>\n",
              "      <td>1.02</td>\n",
              "      <td>33.04</td>\n",
              "      <td>16.54</td>\n",
              "      <td>500</td>\n",
              "      <td>20.0</td>\n",
              "      <td>84.44</td>\n",
              "      <td>2.88</td>\n",
              "      <td>1.02</td>\n",
              "      <td>11.67</td>\n",
              "      <td>14.3</td>\n",
              "      <td>15.9</td>\n",
              "      <td>67.25</td>\n",
              "      <td>NaN</td>\n",
              "      <td>38.7</td>\n",
              "      <td>10.3</td>\n",
              "    </tr>\n",
              "    <tr>\n",
              "      <th>18</th>\n",
              "      <td>77.20</td>\n",
              "      <td>22.80</td>\n",
              "      <td>0.60</td>\n",
              "      <td>52.60</td>\n",
              "      <td>6.20</td>\n",
              "      <td>20.00</td>\n",
              "      <td>53.10</td>\n",
              "      <td>172.00</td>\n",
              "      <td>550</td>\n",
              "      <td>10.0</td>\n",
              "      <td>93.90</td>\n",
              "      <td>3.00</td>\n",
              "      <td>0.40</td>\n",
              "      <td>2.60</td>\n",
              "      <td>8.0</td>\n",
              "      <td>4.1</td>\n",
              "      <td>91.90</td>\n",
              "      <td>33.70</td>\n",
              "      <td>28.2</td>\n",
              "      <td>8.5</td>\n",
              "    </tr>\n",
              "    <tr>\n",
              "      <th>12</th>\n",
              "      <td>83.00</td>\n",
              "      <td>3.00</td>\n",
              "      <td>14.00</td>\n",
              "      <td>45.50</td>\n",
              "      <td>6.90</td>\n",
              "      <td>40.60</td>\n",
              "      <td>3.00</td>\n",
              "      <td>24.80</td>\n",
              "      <td>500</td>\n",
              "      <td>50.0</td>\n",
              "      <td>71.79</td>\n",
              "      <td>2.87</td>\n",
              "      <td>3.33</td>\n",
              "      <td>22.01</td>\n",
              "      <td>14.3</td>\n",
              "      <td>8.7</td>\n",
              "      <td>77.00</td>\n",
              "      <td>29.73</td>\n",
              "      <td>26.8</td>\n",
              "      <td>9.3</td>\n",
              "    </tr>\n",
              "  </tbody>\n",
              "</table>\n",
              "</div>"
            ],
            "text/plain": [
              "    volatile_bm  ash_bm  fixed carbon_bm  ...  HHV_bc  yield    pH\n",
              "19        85.90   14.10             7.90  ...   26.50   30.3  11.6\n",
              "44        74.48    5.99            19.53  ...     NaN   31.0   NaN\n",
              "34        49.10    4.60            25.30  ...     NaN   38.7  10.3\n",
              "18        77.20   22.80             0.60  ...   33.70   28.2   8.5\n",
              "12        83.00    3.00            14.00  ...   29.73   26.8   9.3\n",
              "\n",
              "[5 rows x 20 columns]"
            ]
          },
          "metadata": {
            "tags": []
          },
          "execution_count": 4
        }
      ]
    },
    {
      "cell_type": "markdown",
      "metadata": {
        "id": "T9HS_sxIEuRL"
      },
      "source": [
        "Getting info about the data and the type of datatypes"
      ]
    },
    {
      "cell_type": "code",
      "metadata": {
        "id": "DNqhOWMZINPG",
        "outputId": "5eba2c20-ee93-432f-c44e-2c40ddfbfc1c",
        "colab": {
          "base_uri": "https://localhost:8080/",
          "height": 476
        }
      },
      "source": [
        "data.info()"
      ],
      "execution_count": null,
      "outputs": [
        {
          "output_type": "stream",
          "text": [
            "<class 'pandas.core.frame.DataFrame'>\n",
            "RangeIndex: 59 entries, 0 to 58\n",
            "Data columns (total 20 columns):\n",
            " #   Column           Non-Null Count  Dtype  \n",
            "---  ------           --------------  -----  \n",
            " 0   volatile_bm      59 non-null     float64\n",
            " 1   ash_bm           59 non-null     float64\n",
            " 2   fixed carbon_bm  59 non-null     float64\n",
            " 3   C_bm             59 non-null     float64\n",
            " 4   H_bm             59 non-null     float64\n",
            " 5   N_bm             59 non-null     float64\n",
            " 6   O_bm             59 non-null     float64\n",
            " 7   HHV_bm           43 non-null     float64\n",
            " 8   temp             59 non-null     int64  \n",
            " 9   heating rate     43 non-null     float64\n",
            " 10  C_bc             59 non-null     float64\n",
            " 11  H_bc             59 non-null     float64\n",
            " 12  N_bc             59 non-null     float64\n",
            " 13  O_bc             59 non-null     float64\n",
            " 14  volatile_bc      39 non-null     float64\n",
            " 15  ash_bc           39 non-null     float64\n",
            " 16  fixed carbon_bc  39 non-null     float64\n",
            " 17  HHV_bc           31 non-null     float64\n",
            " 18  yield            59 non-null     float64\n",
            " 19  pH               35 non-null     float64\n",
            "dtypes: float64(19), int64(1)\n",
            "memory usage: 9.3 KB\n"
          ],
          "name": "stdout"
        }
      ]
    },
    {
      "cell_type": "markdown",
      "metadata": {
        "id": "zTKKjSt_E10g"
      },
      "source": [
        "Determing the mean, mode and median of the data"
      ]
    },
    {
      "cell_type": "code",
      "metadata": {
        "id": "_aJvl3u5IQ9J",
        "outputId": "4a0cf515-ca2e-4317-e591-a3131c00cf55",
        "colab": {
          "base_uri": "https://localhost:8080/",
          "height": 334
        }
      },
      "source": [
        "data.describe()"
      ],
      "execution_count": null,
      "outputs": [
        {
          "output_type": "execute_result",
          "data": {
            "text/html": [
              "<div>\n",
              "<style scoped>\n",
              "    .dataframe tbody tr th:only-of-type {\n",
              "        vertical-align: middle;\n",
              "    }\n",
              "\n",
              "    .dataframe tbody tr th {\n",
              "        vertical-align: top;\n",
              "    }\n",
              "\n",
              "    .dataframe thead th {\n",
              "        text-align: right;\n",
              "    }\n",
              "</style>\n",
              "<table border=\"1\" class=\"dataframe\">\n",
              "  <thead>\n",
              "    <tr style=\"text-align: right;\">\n",
              "      <th></th>\n",
              "      <th>volatile_bm</th>\n",
              "      <th>ash_bm</th>\n",
              "      <th>fixed carbon_bm</th>\n",
              "      <th>C_bm</th>\n",
              "      <th>H_bm</th>\n",
              "      <th>N_bm</th>\n",
              "      <th>O_bm</th>\n",
              "      <th>HHV_bm</th>\n",
              "      <th>temp</th>\n",
              "      <th>heating rate</th>\n",
              "      <th>C_bc</th>\n",
              "      <th>H_bc</th>\n",
              "      <th>N_bc</th>\n",
              "      <th>O_bc</th>\n",
              "      <th>volatile_bc</th>\n",
              "      <th>ash_bc</th>\n",
              "      <th>fixed carbon_bc</th>\n",
              "      <th>HHV_bc</th>\n",
              "      <th>yield</th>\n",
              "      <th>pH</th>\n",
              "    </tr>\n",
              "  </thead>\n",
              "  <tbody>\n",
              "    <tr>\n",
              "      <th>count</th>\n",
              "      <td>59.000000</td>\n",
              "      <td>59.000000</td>\n",
              "      <td>59.000000</td>\n",
              "      <td>59.000000</td>\n",
              "      <td>59.000000</td>\n",
              "      <td>59.000000</td>\n",
              "      <td>59.000000</td>\n",
              "      <td>43.000000</td>\n",
              "      <td>59.000000</td>\n",
              "      <td>43.000000</td>\n",
              "      <td>59.000000</td>\n",
              "      <td>59.000000</td>\n",
              "      <td>59.000000</td>\n",
              "      <td>59.000000</td>\n",
              "      <td>39.000000</td>\n",
              "      <td>39.000000</td>\n",
              "      <td>39.000000</td>\n",
              "      <td>31.000000</td>\n",
              "      <td>59.000000</td>\n",
              "      <td>35.000000</td>\n",
              "    </tr>\n",
              "    <tr>\n",
              "      <th>mean</th>\n",
              "      <td>79.547966</td>\n",
              "      <td>5.211695</td>\n",
              "      <td>13.117627</td>\n",
              "      <td>53.504915</td>\n",
              "      <td>6.384576</td>\n",
              "      <td>15.261695</td>\n",
              "      <td>32.055254</td>\n",
              "      <td>23.780465</td>\n",
              "      <td>461.016949</td>\n",
              "      <td>18.860465</td>\n",
              "      <td>72.653051</td>\n",
              "      <td>3.230339</td>\n",
              "      <td>2.121525</td>\n",
              "      <td>21.492034</td>\n",
              "      <td>15.192051</td>\n",
              "      <td>11.182051</td>\n",
              "      <td>76.578974</td>\n",
              "      <td>27.447419</td>\n",
              "      <td>31.296949</td>\n",
              "      <td>9.263143</td>\n",
              "    </tr>\n",
              "    <tr>\n",
              "      <th>std</th>\n",
              "      <td>8.441695</td>\n",
              "      <td>6.156062</td>\n",
              "      <td>4.855361</td>\n",
              "      <td>49.328971</td>\n",
              "      <td>0.569922</td>\n",
              "      <td>18.719686</td>\n",
              "      <td>21.000688</td>\n",
              "      <td>23.445448</td>\n",
              "      <td>107.023924</td>\n",
              "      <td>13.630466</td>\n",
              "      <td>12.008812</td>\n",
              "      <td>1.271968</td>\n",
              "      <td>3.218875</td>\n",
              "      <td>11.369073</td>\n",
              "      <td>8.086012</td>\n",
              "      <td>9.877789</td>\n",
              "      <td>10.119813</td>\n",
              "      <td>4.608842</td>\n",
              "      <td>7.556843</td>\n",
              "      <td>1.076716</td>\n",
              "    </tr>\n",
              "    <tr>\n",
              "      <th>min</th>\n",
              "      <td>49.100000</td>\n",
              "      <td>0.240000</td>\n",
              "      <td>0.600000</td>\n",
              "      <td>40.400000</td>\n",
              "      <td>4.370000</td>\n",
              "      <td>0.230000</td>\n",
              "      <td>0.520000</td>\n",
              "      <td>13.450000</td>\n",
              "      <td>220.000000</td>\n",
              "      <td>5.000000</td>\n",
              "      <td>49.600000</td>\n",
              "      <td>0.870000</td>\n",
              "      <td>0.250000</td>\n",
              "      <td>2.600000</td>\n",
              "      <td>3.260000</td>\n",
              "      <td>2.280000</td>\n",
              "      <td>39.100000</td>\n",
              "      <td>11.640000</td>\n",
              "      <td>21.700000</td>\n",
              "      <td>6.100000</td>\n",
              "    </tr>\n",
              "    <tr>\n",
              "      <th>25%</th>\n",
              "      <td>74.480000</td>\n",
              "      <td>1.150000</td>\n",
              "      <td>11.245000</td>\n",
              "      <td>45.500000</td>\n",
              "      <td>6.065000</td>\n",
              "      <td>0.415000</td>\n",
              "      <td>3.000000</td>\n",
              "      <td>16.850000</td>\n",
              "      <td>400.000000</td>\n",
              "      <td>10.000000</td>\n",
              "      <td>66.965000</td>\n",
              "      <td>2.585000</td>\n",
              "      <td>0.670000</td>\n",
              "      <td>11.765000</td>\n",
              "      <td>9.485000</td>\n",
              "      <td>7.530000</td>\n",
              "      <td>71.750000</td>\n",
              "      <td>26.945000</td>\n",
              "      <td>28.050000</td>\n",
              "      <td>8.655000</td>\n",
              "    </tr>\n",
              "    <tr>\n",
              "      <th>50%</th>\n",
              "      <td>83.000000</td>\n",
              "      <td>3.000000</td>\n",
              "      <td>14.000000</td>\n",
              "      <td>47.580000</td>\n",
              "      <td>6.390000</td>\n",
              "      <td>1.940000</td>\n",
              "      <td>43.510000</td>\n",
              "      <td>19.900000</td>\n",
              "      <td>500.000000</td>\n",
              "      <td>10.000000</td>\n",
              "      <td>71.790000</td>\n",
              "      <td>2.880000</td>\n",
              "      <td>1.100000</td>\n",
              "      <td>21.630000</td>\n",
              "      <td>13.900000</td>\n",
              "      <td>8.600000</td>\n",
              "      <td>78.600000</td>\n",
              "      <td>28.770000</td>\n",
              "      <td>30.500000</td>\n",
              "      <td>9.500000</td>\n",
              "    </tr>\n",
              "    <tr>\n",
              "      <th>75%</th>\n",
              "      <td>85.180000</td>\n",
              "      <td>5.860000</td>\n",
              "      <td>15.500000</td>\n",
              "      <td>48.560000</td>\n",
              "      <td>6.900000</td>\n",
              "      <td>40.600000</td>\n",
              "      <td>45.785000</td>\n",
              "      <td>24.800000</td>\n",
              "      <td>550.000000</td>\n",
              "      <td>25.000000</td>\n",
              "      <td>83.790000</td>\n",
              "      <td>3.580000</td>\n",
              "      <td>3.480000</td>\n",
              "      <td>28.130000</td>\n",
              "      <td>19.800000</td>\n",
              "      <td>9.500000</td>\n",
              "      <td>81.285000</td>\n",
              "      <td>29.985000</td>\n",
              "      <td>33.205000</td>\n",
              "      <td>9.835000</td>\n",
              "    </tr>\n",
              "    <tr>\n",
              "      <th>max</th>\n",
              "      <td>93.100000</td>\n",
              "      <td>25.900000</td>\n",
              "      <td>25.300000</td>\n",
              "      <td>425.000000</td>\n",
              "      <td>7.600000</td>\n",
              "      <td>45.430000</td>\n",
              "      <td>61.800000</td>\n",
              "      <td>172.000000</td>\n",
              "      <td>600.000000</td>\n",
              "      <td>50.000000</td>\n",
              "      <td>93.900000</td>\n",
              "      <td>6.380000</td>\n",
              "      <td>24.000000</td>\n",
              "      <td>45.530000</td>\n",
              "      <td>43.600000</td>\n",
              "      <td>52.370000</td>\n",
              "      <td>91.900000</td>\n",
              "      <td>33.700000</td>\n",
              "      <td>77.300000</td>\n",
              "      <td>11.600000</td>\n",
              "    </tr>\n",
              "  </tbody>\n",
              "</table>\n",
              "</div>"
            ],
            "text/plain": [
              "       volatile_bm     ash_bm  fixed carbon_bm  ...     HHV_bc      yield         pH\n",
              "count    59.000000  59.000000        59.000000  ...  31.000000  59.000000  35.000000\n",
              "mean     79.547966   5.211695        13.117627  ...  27.447419  31.296949   9.263143\n",
              "std       8.441695   6.156062         4.855361  ...   4.608842   7.556843   1.076716\n",
              "min      49.100000   0.240000         0.600000  ...  11.640000  21.700000   6.100000\n",
              "25%      74.480000   1.150000        11.245000  ...  26.945000  28.050000   8.655000\n",
              "50%      83.000000   3.000000        14.000000  ...  28.770000  30.500000   9.500000\n",
              "75%      85.180000   5.860000        15.500000  ...  29.985000  33.205000   9.835000\n",
              "max      93.100000  25.900000        25.300000  ...  33.700000  77.300000  11.600000\n",
              "\n",
              "[8 rows x 20 columns]"
            ]
          },
          "metadata": {
            "tags": []
          },
          "execution_count": 6
        }
      ]
    },
    {
      "cell_type": "markdown",
      "metadata": {
        "id": "1XX72eifE9wb"
      },
      "source": [
        "## Data Preprocessing \n",
        "\n",
        "Replacing the wrong values in the dataset with correct data "
      ]
    },
    {
      "cell_type": "code",
      "metadata": {
        "id": "UFqBsAXIIXlZ"
      },
      "source": [
        "data=data.replace(to_replace=172,value=17.2)\n",
        "data=data.replace(to_replace=425,value=42.5)"
      ],
      "execution_count": null,
      "outputs": []
    },
    {
      "cell_type": "code",
      "metadata": {
        "id": "XPZUsxVlMA66",
        "outputId": "38b47364-2759-4335-ecef-62e12d00f142",
        "colab": {
          "base_uri": "https://localhost:8080/",
          "height": 334
        }
      },
      "source": [
        "data.describe()"
      ],
      "execution_count": null,
      "outputs": [
        {
          "output_type": "execute_result",
          "data": {
            "text/html": [
              "<div>\n",
              "<style scoped>\n",
              "    .dataframe tbody tr th:only-of-type {\n",
              "        vertical-align: middle;\n",
              "    }\n",
              "\n",
              "    .dataframe tbody tr th {\n",
              "        vertical-align: top;\n",
              "    }\n",
              "\n",
              "    .dataframe thead th {\n",
              "        text-align: right;\n",
              "    }\n",
              "</style>\n",
              "<table border=\"1\" class=\"dataframe\">\n",
              "  <thead>\n",
              "    <tr style=\"text-align: right;\">\n",
              "      <th></th>\n",
              "      <th>volatile_bm</th>\n",
              "      <th>ash_bm</th>\n",
              "      <th>fixed carbon_bm</th>\n",
              "      <th>C_bm</th>\n",
              "      <th>H_bm</th>\n",
              "      <th>N_bm</th>\n",
              "      <th>O_bm</th>\n",
              "      <th>HHV_bm</th>\n",
              "      <th>temp</th>\n",
              "      <th>heating rate</th>\n",
              "      <th>C_bc</th>\n",
              "      <th>H_bc</th>\n",
              "      <th>N_bc</th>\n",
              "      <th>O_bc</th>\n",
              "      <th>volatile_bc</th>\n",
              "      <th>ash_bc</th>\n",
              "      <th>fixed carbon_bc</th>\n",
              "      <th>HHV_bc</th>\n",
              "      <th>yield</th>\n",
              "      <th>pH</th>\n",
              "    </tr>\n",
              "  </thead>\n",
              "  <tbody>\n",
              "    <tr>\n",
              "      <th>count</th>\n",
              "      <td>59.000000</td>\n",
              "      <td>59.000000</td>\n",
              "      <td>59.000000</td>\n",
              "      <td>59.000000</td>\n",
              "      <td>59.000000</td>\n",
              "      <td>59.000000</td>\n",
              "      <td>59.000000</td>\n",
              "      <td>43.000000</td>\n",
              "      <td>59.000000</td>\n",
              "      <td>43.000000</td>\n",
              "      <td>59.000000</td>\n",
              "      <td>59.000000</td>\n",
              "      <td>59.000000</td>\n",
              "      <td>59.000000</td>\n",
              "      <td>39.000000</td>\n",
              "      <td>39.000000</td>\n",
              "      <td>39.000000</td>\n",
              "      <td>31.000000</td>\n",
              "      <td>59.000000</td>\n",
              "      <td>35.000000</td>\n",
              "    </tr>\n",
              "    <tr>\n",
              "      <th>mean</th>\n",
              "      <td>79.547966</td>\n",
              "      <td>5.211695</td>\n",
              "      <td>13.117627</td>\n",
              "      <td>47.021864</td>\n",
              "      <td>6.384576</td>\n",
              "      <td>15.261695</td>\n",
              "      <td>32.055254</td>\n",
              "      <td>20.180465</td>\n",
              "      <td>461.016949</td>\n",
              "      <td>18.860465</td>\n",
              "      <td>72.653051</td>\n",
              "      <td>3.230339</td>\n",
              "      <td>2.121525</td>\n",
              "      <td>21.492034</td>\n",
              "      <td>15.192051</td>\n",
              "      <td>11.182051</td>\n",
              "      <td>76.578974</td>\n",
              "      <td>27.447419</td>\n",
              "      <td>31.296949</td>\n",
              "      <td>9.263143</td>\n",
              "    </tr>\n",
              "    <tr>\n",
              "      <th>std</th>\n",
              "      <td>8.441695</td>\n",
              "      <td>6.156062</td>\n",
              "      <td>4.855361</td>\n",
              "      <td>3.636239</td>\n",
              "      <td>0.569922</td>\n",
              "      <td>18.719686</td>\n",
              "      <td>21.000688</td>\n",
              "      <td>3.792008</td>\n",
              "      <td>107.023924</td>\n",
              "      <td>13.630466</td>\n",
              "      <td>12.008812</td>\n",
              "      <td>1.271968</td>\n",
              "      <td>3.218875</td>\n",
              "      <td>11.369073</td>\n",
              "      <td>8.086012</td>\n",
              "      <td>9.877789</td>\n",
              "      <td>10.119813</td>\n",
              "      <td>4.608842</td>\n",
              "      <td>7.556843</td>\n",
              "      <td>1.076716</td>\n",
              "    </tr>\n",
              "    <tr>\n",
              "      <th>min</th>\n",
              "      <td>49.100000</td>\n",
              "      <td>0.240000</td>\n",
              "      <td>0.600000</td>\n",
              "      <td>40.400000</td>\n",
              "      <td>4.370000</td>\n",
              "      <td>0.230000</td>\n",
              "      <td>0.520000</td>\n",
              "      <td>13.450000</td>\n",
              "      <td>220.000000</td>\n",
              "      <td>5.000000</td>\n",
              "      <td>49.600000</td>\n",
              "      <td>0.870000</td>\n",
              "      <td>0.250000</td>\n",
              "      <td>2.600000</td>\n",
              "      <td>3.260000</td>\n",
              "      <td>2.280000</td>\n",
              "      <td>39.100000</td>\n",
              "      <td>11.640000</td>\n",
              "      <td>21.700000</td>\n",
              "      <td>6.100000</td>\n",
              "    </tr>\n",
              "    <tr>\n",
              "      <th>25%</th>\n",
              "      <td>74.480000</td>\n",
              "      <td>1.150000</td>\n",
              "      <td>11.245000</td>\n",
              "      <td>45.500000</td>\n",
              "      <td>6.065000</td>\n",
              "      <td>0.415000</td>\n",
              "      <td>3.000000</td>\n",
              "      <td>16.850000</td>\n",
              "      <td>400.000000</td>\n",
              "      <td>10.000000</td>\n",
              "      <td>66.965000</td>\n",
              "      <td>2.585000</td>\n",
              "      <td>0.670000</td>\n",
              "      <td>11.765000</td>\n",
              "      <td>9.485000</td>\n",
              "      <td>7.530000</td>\n",
              "      <td>71.750000</td>\n",
              "      <td>26.945000</td>\n",
              "      <td>28.050000</td>\n",
              "      <td>8.655000</td>\n",
              "    </tr>\n",
              "    <tr>\n",
              "      <th>50%</th>\n",
              "      <td>83.000000</td>\n",
              "      <td>3.000000</td>\n",
              "      <td>14.000000</td>\n",
              "      <td>46.210000</td>\n",
              "      <td>6.390000</td>\n",
              "      <td>1.940000</td>\n",
              "      <td>43.510000</td>\n",
              "      <td>19.520000</td>\n",
              "      <td>500.000000</td>\n",
              "      <td>10.000000</td>\n",
              "      <td>71.790000</td>\n",
              "      <td>2.880000</td>\n",
              "      <td>1.100000</td>\n",
              "      <td>21.630000</td>\n",
              "      <td>13.900000</td>\n",
              "      <td>8.600000</td>\n",
              "      <td>78.600000</td>\n",
              "      <td>28.770000</td>\n",
              "      <td>30.500000</td>\n",
              "      <td>9.500000</td>\n",
              "    </tr>\n",
              "    <tr>\n",
              "      <th>75%</th>\n",
              "      <td>85.180000</td>\n",
              "      <td>5.860000</td>\n",
              "      <td>15.500000</td>\n",
              "      <td>48.245000</td>\n",
              "      <td>6.900000</td>\n",
              "      <td>40.600000</td>\n",
              "      <td>45.785000</td>\n",
              "      <td>24.800000</td>\n",
              "      <td>550.000000</td>\n",
              "      <td>25.000000</td>\n",
              "      <td>83.790000</td>\n",
              "      <td>3.580000</td>\n",
              "      <td>3.480000</td>\n",
              "      <td>28.130000</td>\n",
              "      <td>19.800000</td>\n",
              "      <td>9.500000</td>\n",
              "      <td>81.285000</td>\n",
              "      <td>29.985000</td>\n",
              "      <td>33.205000</td>\n",
              "      <td>9.835000</td>\n",
              "    </tr>\n",
              "    <tr>\n",
              "      <th>max</th>\n",
              "      <td>93.100000</td>\n",
              "      <td>25.900000</td>\n",
              "      <td>25.300000</td>\n",
              "      <td>61.570000</td>\n",
              "      <td>7.600000</td>\n",
              "      <td>45.430000</td>\n",
              "      <td>61.800000</td>\n",
              "      <td>24.800000</td>\n",
              "      <td>600.000000</td>\n",
              "      <td>50.000000</td>\n",
              "      <td>93.900000</td>\n",
              "      <td>6.380000</td>\n",
              "      <td>24.000000</td>\n",
              "      <td>45.530000</td>\n",
              "      <td>43.600000</td>\n",
              "      <td>52.370000</td>\n",
              "      <td>91.900000</td>\n",
              "      <td>33.700000</td>\n",
              "      <td>77.300000</td>\n",
              "      <td>11.600000</td>\n",
              "    </tr>\n",
              "  </tbody>\n",
              "</table>\n",
              "</div>"
            ],
            "text/plain": [
              "       volatile_bm     ash_bm  fixed carbon_bm  ...     HHV_bc      yield         pH\n",
              "count    59.000000  59.000000        59.000000  ...  31.000000  59.000000  35.000000\n",
              "mean     79.547966   5.211695        13.117627  ...  27.447419  31.296949   9.263143\n",
              "std       8.441695   6.156062         4.855361  ...   4.608842   7.556843   1.076716\n",
              "min      49.100000   0.240000         0.600000  ...  11.640000  21.700000   6.100000\n",
              "25%      74.480000   1.150000        11.245000  ...  26.945000  28.050000   8.655000\n",
              "50%      83.000000   3.000000        14.000000  ...  28.770000  30.500000   9.500000\n",
              "75%      85.180000   5.860000        15.500000  ...  29.985000  33.205000   9.835000\n",
              "max      93.100000  25.900000        25.300000  ...  33.700000  77.300000  11.600000\n",
              "\n",
              "[8 rows x 20 columns]"
            ]
          },
          "metadata": {
            "tags": []
          },
          "execution_count": 8
        }
      ]
    },
    {
      "cell_type": "markdown",
      "metadata": {
        "id": "ORetbaEuFImY"
      },
      "source": [
        "## Data Visualization"
      ]
    },
    {
      "cell_type": "markdown",
      "metadata": {
        "id": "oJWw3swlFN8s"
      },
      "source": [
        "Temp v/s Yield plot\n",
        "We can see that very high temperatures results poor yield of biochar"
      ]
    },
    {
      "cell_type": "code",
      "metadata": {
        "id": "E62lG6-RMDqO",
        "outputId": "ce66ad84-3049-4a2e-fb22-ea26b5e49366",
        "colab": {
          "base_uri": "https://localhost:8080/",
          "height": 300
        }
      },
      "source": [
        "sns.lineplot(x=\"temp\", y=\"yield\", data=data)"
      ],
      "execution_count": null,
      "outputs": [
        {
          "output_type": "execute_result",
          "data": {
            "text/plain": [
              "<matplotlib.axes._subplots.AxesSubplot at 0x7f0d09cf99e8>"
            ]
          },
          "metadata": {
            "tags": []
          },
          "execution_count": 9
        },
        {
          "output_type": "display_data",
          "data": {
            "image/png": "[encoded data removed]",
            "text/plain": [
              "<Figure size 432x288 with 1 Axes>"
            ]
          },
          "metadata": {
            "tags": [],
            "needs_background": "light"
          }
        }
      ]
    },
    {
      "cell_type": "markdown",
      "metadata": {
        "id": "gWYr3UuDFUUw"
      },
      "source": [
        "Temp v/s pH plot\n",
        "Increase in temperature gives high pH value for the biochar"
      ]
    },
    {
      "cell_type": "code",
      "metadata": {
        "id": "U5JLpeW8O19k",
        "outputId": "488bf791-ce11-4870-86d5-be2402ec52fe",
        "colab": {
          "base_uri": "https://localhost:8080/",
          "height": 296
        }
      },
      "source": [
        "sns.lineplot(x=\"temp\", y=\"pH\", data=data)"
      ],
      "execution_count": null,
      "outputs": [
        {
          "output_type": "execute_result",
          "data": {
            "text/plain": [
              "<matplotlib.axes._subplots.AxesSubplot at 0x7f0d09ba40f0>"
            ]
          },
          "metadata": {
            "tags": []
          },
          "execution_count": 10
        },
        {
          "output_type": "display_data",
          "data": {
            "image/png": "[encoded data removed]",
            "text/plain": [
              "<Figure size 432x288 with 1 Axes>"
            ]
          },
          "metadata": {
            "tags": [],
            "needs_background": "light"
          }
        }
      ]
    },
    {
      "cell_type": "markdown",
      "metadata": {
        "id": "32JHrDWbFshB"
      },
      "source": [
        "Heating Rate v/ss yield changing temperature \n",
        "\n",
        "We can observe the high heating rate gives high yield but at moderate temperture"
      ]
    },
    {
      "cell_type": "code",
      "metadata": {
        "id": "Q6cxKIIMUbIp",
        "outputId": "8225920a-34ea-4d66-f6ee-33ac26c922f3",
        "colab": {
          "base_uri": "https://localhost:8080/",
          "height": 300
        }
      },
      "source": [
        "sns.scatterplot(x=\"heating rate\", y=\"yield\",hue=\"temp\",data=data)"
      ],
      "execution_count": null,
      "outputs": [
        {
          "output_type": "execute_result",
          "data": {
            "text/plain": [
              "<matplotlib.axes._subplots.AxesSubplot at 0x7f0d09715e10>"
            ]
          },
          "metadata": {
            "tags": []
          },
          "execution_count": 11
        },
        {
          "output_type": "display_data",
          "data": {
            "image/png": "[encoded data removed]",
            "text/plain": [
              "<Figure size 432x288 with 1 Axes>"
            ]
          },
          "metadata": {
            "tags": [],
            "needs_background": "light"
          }
        }
      ]
    },
    {
      "cell_type": "markdown",
      "metadata": {
        "id": "Ms80ihiHF9Xk"
      },
      "source": [
        "Fixed carbon content v?s temperature\n",
        "\n",
        "Higher the temperature more is the fixed carbon content in biochar"
      ]
    },
    {
      "cell_type": "code",
      "metadata": {
        "id": "ZBG4UdpBU_JN",
        "outputId": "e02bceef-00d4-4a42-ca2e-3c9ec2a7b1f8",
        "colab": {
          "base_uri": "https://localhost:8080/",
          "height": 296
        }
      },
      "source": [
        "sns.lineplot(x=\"temp\", y=\"fixed carbon_bc\", data=data)"
      ],
      "execution_count": null,
      "outputs": [
        {
          "output_type": "execute_result",
          "data": {
            "text/plain": [
              "<matplotlib.axes._subplots.AxesSubplot at 0x7f0d09656cf8>"
            ]
          },
          "metadata": {
            "tags": []
          },
          "execution_count": 12
        },
        {
          "output_type": "display_data",
          "data": {
            "image/png": "[encoded data removed]",
            "text/plain": [
              "<Figure size 432x288 with 1 Axes>"
            ]
          },
          "metadata": {
            "tags": [],
            "needs_background": "light"
          }
        }
      ]
    },
    {
      "cell_type": "markdown",
      "metadata": {
        "id": "l7om026jGMMt"
      },
      "source": [
        "### Handling Missing Values\n",
        "\n",
        "From the above table we can see that some columns have missing values \n",
        "We are will be filling these values with mean of the data and mode values in case of heating rate "
      ]
    },
    {
      "cell_type": "code",
      "metadata": {
        "id": "RSY04LkvVayo"
      },
      "source": [
        "data[\"heating rate\"].fillna(\"10\",inplace=True)\n",
        "data[\"HHV_bm\"].fillna(data.HHV_bm.mean(),inplace=True)\n",
        "data[\"volatile_bc\"].fillna(data.volatile_bc.mean(),inplace=True)\n",
        "data[\"ash_bc\"].fillna(data.ash_bc.mean(),inplace=True)\n",
        "data[\"HHV_bc\"].fillna(data.HHV_bc.mean(),inplace=True)\n",
        "data[\"pH\"].fillna(data.pH.mean(),inplace=True)"
      ],
      "execution_count": null,
      "outputs": []
    },
    {
      "cell_type": "markdown",
      "metadata": {
        "id": "-bxpmsxSGghL"
      },
      "source": [
        "WoW !! \n",
        "Now we do no have any missing values \n",
        "We can proceed furthur"
      ]
    },
    {
      "cell_type": "code",
      "metadata": {
        "id": "EdubrXitUcF1",
        "outputId": "994a1553-1305-46ff-d890-f2062eb4afd8",
        "colab": {
          "base_uri": "https://localhost:8080/",
          "height": 374
        }
      },
      "source": [
        "missing_value=data.isnull().sum()\n",
        "missing_value"
      ],
      "execution_count": null,
      "outputs": [
        {
          "output_type": "execute_result",
          "data": {
            "text/plain": [
              "volatile_bm         0\n",
              "ash_bm              0\n",
              "fixed carbon_bm     0\n",
              "C_bm                0\n",
              "H_bm                0\n",
              "N_bm                0\n",
              "O_bm                0\n",
              "HHV_bm              0\n",
              "temp                0\n",
              "heating rate        0\n",
              "C_bc                0\n",
              "H_bc                0\n",
              "N_bc                0\n",
              "O_bc                0\n",
              "volatile_bc         0\n",
              "ash_bc              0\n",
              "fixed carbon_bc    20\n",
              "HHV_bc              0\n",
              "yield               0\n",
              "pH                  0\n",
              "dtype: int64"
            ]
          },
          "metadata": {
            "tags": []
          },
          "execution_count": 14
        }
      ]
    },
    {
      "cell_type": "markdown",
      "metadata": {
        "id": "i5GbGRATGu04"
      },
      "source": [
        "##### Dropping those columns which are not required for the biochar yield prediction"
      ]
    },
    {
      "cell_type": "code",
      "metadata": {
        "id": "V3HJHVeQXpah"
      },
      "source": [
        "data=data.drop([\"fixed carbon_bc\"],axis=1)"
      ],
      "execution_count": null,
      "outputs": []
    },
    {
      "cell_type": "code",
      "metadata": {
        "id": "i-I1YVnIandj",
        "outputId": "c4e151a9-84c2-4974-8c6f-79764f4bcf4b",
        "colab": {
          "base_uri": "https://localhost:8080/",
          "height": 85
        }
      },
      "source": [
        "data.columns"
      ],
      "execution_count": null,
      "outputs": [
        {
          "output_type": "execute_result",
          "data": {
            "text/plain": [
              "Index(['volatile_bm', 'ash_bm', 'fixed carbon_bm', 'C_bm', 'H_bm', 'N_bm',\n",
              "       'O_bm', 'HHV_bm', 'temp', 'heating rate', 'C_bc', 'H_bc', 'N_bc',\n",
              "       'O_bc', 'volatile_bc', 'ash_bc', 'HHV_bc', 'yield', 'pH'],\n",
              "      dtype='object')"
            ]
          },
          "metadata": {
            "tags": []
          },
          "execution_count": 16
        }
      ]
    },
    {
      "cell_type": "code",
      "metadata": {
        "id": "yjuyipM_kkEk"
      },
      "source": [
        "data_df=data.drop(['C_bc', 'H_bc', 'N_bc','O_bc','volatile_bc', 'ash_bc', 'HHV_bc','pH'],axis=1)"
      ],
      "execution_count": null,
      "outputs": []
    },
    {
      "cell_type": "markdown",
      "metadata": {
        "id": "m7AN0_wgG5Cf"
      },
      "source": [
        "These columns are removed because they are the outputs of heating, not the input variable required for the biochar yield prediction\n",
        "\n",
        "Viewing the desired columns"
      ]
    },
    {
      "cell_type": "code",
      "metadata": {
        "id": "WqM6tpQflNhL",
        "outputId": "452a0f27-e014-4a8e-a356-e96aa350624c",
        "colab": {
          "base_uri": "https://localhost:8080/",
          "height": 68
        }
      },
      "source": [
        "data_df.columns"
      ],
      "execution_count": null,
      "outputs": [
        {
          "output_type": "execute_result",
          "data": {
            "text/plain": [
              "Index(['volatile_bm', 'ash_bm', 'fixed carbon_bm', 'C_bm', 'H_bm', 'N_bm',\n",
              "       'O_bm', 'HHV_bm', 'temp', 'heating rate', 'yield'],\n",
              "      dtype='object')"
            ]
          },
          "metadata": {
            "tags": []
          },
          "execution_count": 18
        }
      ]
    },
    {
      "cell_type": "markdown",
      "metadata": {
        "id": "54XegroYHOtm"
      },
      "source": [
        "### Removing the outlier \n",
        "\n",
        "In the yield data we can see that, we got a very high value of biochar yield which is too high than the others,this could be due to some error in experimental recordings\n",
        "\n",
        "Hence we need to remove such an outlier, as this can lead to create confusion for our model"
      ]
    },
    {
      "cell_type": "code",
      "metadata": {
        "id": "iNttkYOyn3qE"
      },
      "source": [
        "data_df=data_df.astype(float)"
      ],
      "execution_count": null,
      "outputs": []
    },
    {
      "cell_type": "code",
      "metadata": {
        "id": "ttR6sfXjpZn9"
      },
      "source": [
        "index_names = data_df[ (data_df['yield'] >= 70)].index \n",
        "  \n",
        "# drop these given row \n",
        "# indexes from dataFrame \n",
        "data_df.drop(index_names, inplace = True) \n",
        "  "
      ],
      "execution_count": null,
      "outputs": []
    },
    {
      "cell_type": "markdown",
      "metadata": {
        "id": "j59fIsjsHo6L"
      },
      "source": [
        "So , finally we are have removed the outlier \n",
        "\n",
        "Hence we can move forward for the modelling "
      ]
    },
    {
      "cell_type": "code",
      "metadata": {
        "id": "Y4XSFY-UvJWT",
        "outputId": "a7e75792-44a4-48cf-f0c0-dfdd109dfc5b",
        "colab": {
          "base_uri": "https://localhost:8080/",
          "height": 297
        }
      },
      "source": [
        "data_df.describe()"
      ],
      "execution_count": null,
      "outputs": [
        {
          "output_type": "execute_result",
          "data": {
            "text/html": [
              "<div>\n",
              "<style scoped>\n",
              "    .dataframe tbody tr th:only-of-type {\n",
              "        vertical-align: middle;\n",
              "    }\n",
              "\n",
              "    .dataframe tbody tr th {\n",
              "        vertical-align: top;\n",
              "    }\n",
              "\n",
              "    .dataframe thead th {\n",
              "        text-align: right;\n",
              "    }\n",
              "</style>\n",
              "<table border=\"1\" class=\"dataframe\">\n",
              "  <thead>\n",
              "    <tr style=\"text-align: right;\">\n",
              "      <th></th>\n",
              "      <th>volatile_bm</th>\n",
              "      <th>ash_bm</th>\n",
              "      <th>fixed carbon_bm</th>\n",
              "      <th>C_bm</th>\n",
              "      <th>H_bm</th>\n",
              "      <th>N_bm</th>\n",
              "      <th>O_bm</th>\n",
              "      <th>HHV_bm</th>\n",
              "      <th>temp</th>\n",
              "      <th>heating rate</th>\n",
              "      <th>yield</th>\n",
              "    </tr>\n",
              "  </thead>\n",
              "  <tbody>\n",
              "    <tr>\n",
              "      <th>count</th>\n",
              "      <td>58.000000</td>\n",
              "      <td>58.000000</td>\n",
              "      <td>58.000000</td>\n",
              "      <td>58.000000</td>\n",
              "      <td>58.000000</td>\n",
              "      <td>58.000000</td>\n",
              "      <td>58.000000</td>\n",
              "      <td>58.000000</td>\n",
              "      <td>58.000000</td>\n",
              "      <td>58.000000</td>\n",
              "      <td>58.000000</td>\n",
              "    </tr>\n",
              "    <tr>\n",
              "      <th>mean</th>\n",
              "      <td>79.721207</td>\n",
              "      <td>5.251552</td>\n",
              "      <td>13.069655</td>\n",
              "      <td>47.002931</td>\n",
              "      <td>6.382931</td>\n",
              "      <td>15.492241</td>\n",
              "      <td>31.857759</td>\n",
              "      <td>20.180465</td>\n",
              "      <td>463.793103</td>\n",
              "      <td>16.482759</td>\n",
              "      <td>30.503793</td>\n",
              "    </tr>\n",
              "    <tr>\n",
              "      <th>std</th>\n",
              "      <td>8.408961</td>\n",
              "      <td>6.202144</td>\n",
              "      <td>4.883642</td>\n",
              "      <td>3.665062</td>\n",
              "      <td>0.574759</td>\n",
              "      <td>18.798498</td>\n",
              "      <td>21.128762</td>\n",
              "      <td>3.255041</td>\n",
              "      <td>105.794033</td>\n",
              "      <td>12.366113</td>\n",
              "      <td>4.509975</td>\n",
              "    </tr>\n",
              "    <tr>\n",
              "      <th>min</th>\n",
              "      <td>49.100000</td>\n",
              "      <td>0.240000</td>\n",
              "      <td>0.600000</td>\n",
              "      <td>40.400000</td>\n",
              "      <td>4.370000</td>\n",
              "      <td>0.230000</td>\n",
              "      <td>0.520000</td>\n",
              "      <td>13.450000</td>\n",
              "      <td>220.000000</td>\n",
              "      <td>5.000000</td>\n",
              "      <td>21.700000</td>\n",
              "    </tr>\n",
              "    <tr>\n",
              "      <th>25%</th>\n",
              "      <td>74.480000</td>\n",
              "      <td>1.150000</td>\n",
              "      <td>10.972500</td>\n",
              "      <td>45.500000</td>\n",
              "      <td>6.037500</td>\n",
              "      <td>0.402500</td>\n",
              "      <td>3.000000</td>\n",
              "      <td>17.225000</td>\n",
              "      <td>412.500000</td>\n",
              "      <td>10.000000</td>\n",
              "      <td>28.025000</td>\n",
              "    </tr>\n",
              "    <tr>\n",
              "      <th>50%</th>\n",
              "      <td>83.000000</td>\n",
              "      <td>3.000000</td>\n",
              "      <td>14.000000</td>\n",
              "      <td>46.105000</td>\n",
              "      <td>6.390000</td>\n",
              "      <td>1.965000</td>\n",
              "      <td>43.575000</td>\n",
              "      <td>20.180465</td>\n",
              "      <td>500.000000</td>\n",
              "      <td>10.000000</td>\n",
              "      <td>30.500000</td>\n",
              "    </tr>\n",
              "    <tr>\n",
              "      <th>75%</th>\n",
              "      <td>85.180000</td>\n",
              "      <td>5.925000</td>\n",
              "      <td>15.162500</td>\n",
              "      <td>48.307500</td>\n",
              "      <td>6.900000</td>\n",
              "      <td>40.600000</td>\n",
              "      <td>45.792500</td>\n",
              "      <td>23.680000</td>\n",
              "      <td>550.000000</td>\n",
              "      <td>20.000000</td>\n",
              "      <td>33.002500</td>\n",
              "    </tr>\n",
              "    <tr>\n",
              "      <th>max</th>\n",
              "      <td>93.100000</td>\n",
              "      <td>25.900000</td>\n",
              "      <td>25.300000</td>\n",
              "      <td>61.570000</td>\n",
              "      <td>7.600000</td>\n",
              "      <td>45.430000</td>\n",
              "      <td>61.800000</td>\n",
              "      <td>24.800000</td>\n",
              "      <td>600.000000</td>\n",
              "      <td>50.000000</td>\n",
              "      <td>42.000000</td>\n",
              "    </tr>\n",
              "  </tbody>\n",
              "</table>\n",
              "</div>"
            ],
            "text/plain": [
              "       volatile_bm     ash_bm  ...  heating rate      yield\n",
              "count    58.000000  58.000000  ...     58.000000  58.000000\n",
              "mean     79.721207   5.251552  ...     16.482759  30.503793\n",
              "std       8.408961   6.202144  ...     12.366113   4.509975\n",
              "min      49.100000   0.240000  ...      5.000000  21.700000\n",
              "25%      74.480000   1.150000  ...     10.000000  28.025000\n",
              "50%      83.000000   3.000000  ...     10.000000  30.500000\n",
              "75%      85.180000   5.925000  ...     20.000000  33.002500\n",
              "max      93.100000  25.900000  ...     50.000000  42.000000\n",
              "\n",
              "[8 rows x 11 columns]"
            ]
          },
          "metadata": {
            "tags": []
          },
          "execution_count": 21
        }
      ]
    },
    {
      "cell_type": "markdown",
      "metadata": {
        "id": "791o6hfiH03f"
      },
      "source": [
        "### Normalizing the data \n",
        "\n",
        "It is avery important step as data may have ranges of values like very high values in case of termperature(500,600) and very low values in case of nitrogen content in biomass(0.23,0.9)\n",
        "\n",
        "Hence we try to normalize data such that the mean becomes 0 and standard deviation 1"
      ]
    },
    {
      "cell_type": "code",
      "metadata": {
        "id": "C_-107BnOyiH",
        "outputId": "6c7e642f-7d42-4b32-c34d-2e96f0b5d6c3",
        "colab": {
          "base_uri": "https://localhost:8080/",
          "height": 1000
        }
      },
      "source": [
        "# perform a robust scaler transform of the dataset\n",
        "from sklearn.preprocessing import MinMaxScaler\n",
        "trans = MinMaxScaler()\n",
        "data_ = trans.fit_transform(data_df)\n",
        "# convert the array back to a dataframe\n",
        "dataset = pd.DataFrame(data_,columns=['volatile_bm', 'ash_bm', 'fixed carbon_bm', 'C_bm', 'H_bm', 'N_bm',\n",
        "       'O_bm', 'HHV_bm', 'temp', 'heating rate', 'yield'])\n",
        "dataset"
      ],
      "execution_count": null,
      "outputs": [
        {
          "output_type": "execute_result",
          "data": {
            "text/html": [
              "<div>\n",
              "<style scoped>\n",
              "    .dataframe tbody tr th:only-of-type {\n",
              "        vertical-align: middle;\n",
              "    }\n",
              "\n",
              "    .dataframe tbody tr th {\n",
              "        vertical-align: top;\n",
              "    }\n",
              "\n",
              "    .dataframe thead th {\n",
              "        text-align: right;\n",
              "    }\n",
              "</style>\n",
              "<table border=\"1\" class=\"dataframe\">\n",
              "  <thead>\n",
              "    <tr style=\"text-align: right;\">\n",
              "      <th></th>\n",
              "      <th>volatile_bm</th>\n",
              "      <th>ash_bm</th>\n",
              "      <th>fixed carbon_bm</th>\n",
              "      <th>C_bm</th>\n",
              "      <th>H_bm</th>\n",
              "      <th>N_bm</th>\n",
              "      <th>O_bm</th>\n",
              "      <th>HHV_bm</th>\n",
              "      <th>temp</th>\n",
              "      <th>heating rate</th>\n",
              "      <th>yield</th>\n",
              "    </tr>\n",
              "  </thead>\n",
              "  <tbody>\n",
              "    <tr>\n",
              "      <th>0</th>\n",
              "      <td>0.770455</td>\n",
              "      <td>0.107560</td>\n",
              "      <td>0.542510</td>\n",
              "      <td>0.240907</td>\n",
              "      <td>0.783282</td>\n",
              "      <td>0.893142</td>\n",
              "      <td>0.040470</td>\n",
              "      <td>1.000000</td>\n",
              "      <td>0.473684</td>\n",
              "      <td>0.111111</td>\n",
              "      <td>0.630542</td>\n",
              "    </tr>\n",
              "    <tr>\n",
              "      <th>1</th>\n",
              "      <td>0.770455</td>\n",
              "      <td>0.107560</td>\n",
              "      <td>0.542510</td>\n",
              "      <td>0.240907</td>\n",
              "      <td>0.783282</td>\n",
              "      <td>0.893142</td>\n",
              "      <td>0.040470</td>\n",
              "      <td>1.000000</td>\n",
              "      <td>0.605263</td>\n",
              "      <td>0.111111</td>\n",
              "      <td>0.467980</td>\n",
              "    </tr>\n",
              "    <tr>\n",
              "      <th>2</th>\n",
              "      <td>0.770455</td>\n",
              "      <td>0.107560</td>\n",
              "      <td>0.542510</td>\n",
              "      <td>0.240907</td>\n",
              "      <td>0.783282</td>\n",
              "      <td>0.893142</td>\n",
              "      <td>0.040470</td>\n",
              "      <td>1.000000</td>\n",
              "      <td>0.736842</td>\n",
              "      <td>0.111111</td>\n",
              "      <td>0.413793</td>\n",
              "    </tr>\n",
              "    <tr>\n",
              "      <th>3</th>\n",
              "      <td>0.770455</td>\n",
              "      <td>0.107560</td>\n",
              "      <td>0.542510</td>\n",
              "      <td>0.240907</td>\n",
              "      <td>0.783282</td>\n",
              "      <td>0.893142</td>\n",
              "      <td>0.040470</td>\n",
              "      <td>1.000000</td>\n",
              "      <td>0.868421</td>\n",
              "      <td>0.111111</td>\n",
              "      <td>0.344828</td>\n",
              "    </tr>\n",
              "    <tr>\n",
              "      <th>4</th>\n",
              "      <td>0.770455</td>\n",
              "      <td>0.107560</td>\n",
              "      <td>0.542510</td>\n",
              "      <td>0.240907</td>\n",
              "      <td>0.783282</td>\n",
              "      <td>0.893142</td>\n",
              "      <td>0.040470</td>\n",
              "      <td>1.000000</td>\n",
              "      <td>1.000000</td>\n",
              "      <td>0.111111</td>\n",
              "      <td>0.315271</td>\n",
              "    </tr>\n",
              "    <tr>\n",
              "      <th>5</th>\n",
              "      <td>0.770455</td>\n",
              "      <td>0.107560</td>\n",
              "      <td>0.542510</td>\n",
              "      <td>0.240907</td>\n",
              "      <td>0.783282</td>\n",
              "      <td>0.893142</td>\n",
              "      <td>0.040470</td>\n",
              "      <td>1.000000</td>\n",
              "      <td>0.473684</td>\n",
              "      <td>0.555556</td>\n",
              "      <td>0.433498</td>\n",
              "    </tr>\n",
              "    <tr>\n",
              "      <th>6</th>\n",
              "      <td>0.770455</td>\n",
              "      <td>0.107560</td>\n",
              "      <td>0.542510</td>\n",
              "      <td>0.240907</td>\n",
              "      <td>0.783282</td>\n",
              "      <td>0.893142</td>\n",
              "      <td>0.040470</td>\n",
              "      <td>1.000000</td>\n",
              "      <td>0.605263</td>\n",
              "      <td>0.555556</td>\n",
              "      <td>0.394089</td>\n",
              "    </tr>\n",
              "    <tr>\n",
              "      <th>7</th>\n",
              "      <td>0.770455</td>\n",
              "      <td>0.107560</td>\n",
              "      <td>0.542510</td>\n",
              "      <td>0.240907</td>\n",
              "      <td>0.783282</td>\n",
              "      <td>0.893142</td>\n",
              "      <td>0.040470</td>\n",
              "      <td>1.000000</td>\n",
              "      <td>0.736842</td>\n",
              "      <td>0.555556</td>\n",
              "      <td>0.334975</td>\n",
              "    </tr>\n",
              "    <tr>\n",
              "      <th>8</th>\n",
              "      <td>0.770455</td>\n",
              "      <td>0.107560</td>\n",
              "      <td>0.542510</td>\n",
              "      <td>0.240907</td>\n",
              "      <td>0.783282</td>\n",
              "      <td>0.893142</td>\n",
              "      <td>0.040470</td>\n",
              "      <td>1.000000</td>\n",
              "      <td>0.868421</td>\n",
              "      <td>0.555556</td>\n",
              "      <td>0.275862</td>\n",
              "    </tr>\n",
              "    <tr>\n",
              "      <th>9</th>\n",
              "      <td>0.770455</td>\n",
              "      <td>0.107560</td>\n",
              "      <td>0.542510</td>\n",
              "      <td>0.240907</td>\n",
              "      <td>0.783282</td>\n",
              "      <td>0.893142</td>\n",
              "      <td>0.040470</td>\n",
              "      <td>1.000000</td>\n",
              "      <td>1.000000</td>\n",
              "      <td>0.555556</td>\n",
              "      <td>0.251232</td>\n",
              "    </tr>\n",
              "    <tr>\n",
              "      <th>10</th>\n",
              "      <td>0.770455</td>\n",
              "      <td>0.107560</td>\n",
              "      <td>0.542510</td>\n",
              "      <td>0.240907</td>\n",
              "      <td>0.783282</td>\n",
              "      <td>0.893142</td>\n",
              "      <td>0.040470</td>\n",
              "      <td>1.000000</td>\n",
              "      <td>0.473684</td>\n",
              "      <td>1.000000</td>\n",
              "      <td>0.344828</td>\n",
              "    </tr>\n",
              "    <tr>\n",
              "      <th>11</th>\n",
              "      <td>0.770455</td>\n",
              "      <td>0.107560</td>\n",
              "      <td>0.542510</td>\n",
              "      <td>0.240907</td>\n",
              "      <td>0.783282</td>\n",
              "      <td>0.893142</td>\n",
              "      <td>0.040470</td>\n",
              "      <td>1.000000</td>\n",
              "      <td>0.605263</td>\n",
              "      <td>1.000000</td>\n",
              "      <td>0.334975</td>\n",
              "    </tr>\n",
              "    <tr>\n",
              "      <th>12</th>\n",
              "      <td>0.770455</td>\n",
              "      <td>0.107560</td>\n",
              "      <td>0.542510</td>\n",
              "      <td>0.240907</td>\n",
              "      <td>0.783282</td>\n",
              "      <td>0.893142</td>\n",
              "      <td>0.040470</td>\n",
              "      <td>1.000000</td>\n",
              "      <td>0.736842</td>\n",
              "      <td>1.000000</td>\n",
              "      <td>0.251232</td>\n",
              "    </tr>\n",
              "    <tr>\n",
              "      <th>13</th>\n",
              "      <td>0.770455</td>\n",
              "      <td>0.107560</td>\n",
              "      <td>0.542510</td>\n",
              "      <td>0.240907</td>\n",
              "      <td>0.783282</td>\n",
              "      <td>0.893142</td>\n",
              "      <td>0.040470</td>\n",
              "      <td>1.000000</td>\n",
              "      <td>0.868421</td>\n",
              "      <td>1.000000</td>\n",
              "      <td>0.241379</td>\n",
              "    </tr>\n",
              "    <tr>\n",
              "      <th>14</th>\n",
              "      <td>0.770455</td>\n",
              "      <td>0.107560</td>\n",
              "      <td>0.542510</td>\n",
              "      <td>0.240907</td>\n",
              "      <td>0.783282</td>\n",
              "      <td>0.893142</td>\n",
              "      <td>0.040470</td>\n",
              "      <td>1.000000</td>\n",
              "      <td>1.000000</td>\n",
              "      <td>1.000000</td>\n",
              "      <td>0.152709</td>\n",
              "    </tr>\n",
              "    <tr>\n",
              "      <th>15</th>\n",
              "      <td>0.568182</td>\n",
              "      <td>1.000000</td>\n",
              "      <td>0.056680</td>\n",
              "      <td>0.599906</td>\n",
              "      <td>0.845201</td>\n",
              "      <td>0.010398</td>\n",
              "      <td>0.755222</td>\n",
              "      <td>0.568282</td>\n",
              "      <td>0.868421</td>\n",
              "      <td>0.111111</td>\n",
              "      <td>0.497537</td>\n",
              "    </tr>\n",
              "    <tr>\n",
              "      <th>16</th>\n",
              "      <td>0.822727</td>\n",
              "      <td>0.563523</td>\n",
              "      <td>0.153846</td>\n",
              "      <td>0.259802</td>\n",
              "      <td>0.721362</td>\n",
              "      <td>0.014823</td>\n",
              "      <td>0.957572</td>\n",
              "      <td>0.101322</td>\n",
              "      <td>0.868421</td>\n",
              "      <td>0.111111</td>\n",
              "      <td>0.295567</td>\n",
              "    </tr>\n",
              "    <tr>\n",
              "      <th>17</th>\n",
              "      <td>0.722727</td>\n",
              "      <td>0.731099</td>\n",
              "      <td>0.769231</td>\n",
              "      <td>0.099197</td>\n",
              "      <td>0.659443</td>\n",
              "      <td>0.023673</td>\n",
              "      <td>0.742167</td>\n",
              "      <td>0.180617</td>\n",
              "      <td>0.868421</td>\n",
              "      <td>0.111111</td>\n",
              "      <td>0.852217</td>\n",
              "    </tr>\n",
              "    <tr>\n",
              "      <th>18</th>\n",
              "      <td>0.638636</td>\n",
              "      <td>0.879189</td>\n",
              "      <td>0.000000</td>\n",
              "      <td>0.576287</td>\n",
              "      <td>0.566563</td>\n",
              "      <td>0.437389</td>\n",
              "      <td>0.858029</td>\n",
              "      <td>0.330396</td>\n",
              "      <td>0.868421</td>\n",
              "      <td>0.111111</td>\n",
              "      <td>0.320197</td>\n",
              "    </tr>\n",
              "    <tr>\n",
              "      <th>19</th>\n",
              "      <td>0.836364</td>\n",
              "      <td>0.540140</td>\n",
              "      <td>0.295547</td>\n",
              "      <td>0.363722</td>\n",
              "      <td>0.752322</td>\n",
              "      <td>0.034735</td>\n",
              "      <td>0.791123</td>\n",
              "      <td>0.339207</td>\n",
              "      <td>0.868421</td>\n",
              "      <td>0.111111</td>\n",
              "      <td>0.423645</td>\n",
              "    </tr>\n",
              "    <tr>\n",
              "      <th>20</th>\n",
              "      <td>1.000000</td>\n",
              "      <td>0.259548</td>\n",
              "      <td>0.145749</td>\n",
              "      <td>0.264525</td>\n",
              "      <td>1.000000</td>\n",
              "      <td>0.118805</td>\n",
              "      <td>0.880875</td>\n",
              "      <td>0.295154</td>\n",
              "      <td>0.868421</td>\n",
              "      <td>0.111111</td>\n",
              "      <td>0.310345</td>\n",
              "    </tr>\n",
              "    <tr>\n",
              "      <th>21</th>\n",
              "      <td>0.713636</td>\n",
              "      <td>0.750585</td>\n",
              "      <td>0.157895</td>\n",
              "      <td>0.415683</td>\n",
              "      <td>0.752322</td>\n",
              "      <td>0.437389</td>\n",
              "      <td>0.738903</td>\n",
              "      <td>0.418502</td>\n",
              "      <td>0.868421</td>\n",
              "      <td>0.111111</td>\n",
              "      <td>0.433498</td>\n",
              "    </tr>\n",
              "    <tr>\n",
              "      <th>22</th>\n",
              "      <td>0.822727</td>\n",
              "      <td>0.563523</td>\n",
              "      <td>0.190283</td>\n",
              "      <td>0.203118</td>\n",
              "      <td>0.969040</td>\n",
              "      <td>0.012611</td>\n",
              "      <td>1.000000</td>\n",
              "      <td>0.127753</td>\n",
              "      <td>0.868421</td>\n",
              "      <td>0.111111</td>\n",
              "      <td>0.448276</td>\n",
              "    </tr>\n",
              "    <tr>\n",
              "      <th>23</th>\n",
              "      <td>0.827955</td>\n",
              "      <td>0.035464</td>\n",
              "      <td>0.514980</td>\n",
              "      <td>0.339159</td>\n",
              "      <td>0.544892</td>\n",
              "      <td>1.000000</td>\n",
              "      <td>0.000000</td>\n",
              "      <td>0.299559</td>\n",
              "      <td>0.736842</td>\n",
              "      <td>0.000000</td>\n",
              "      <td>0.458128</td>\n",
              "    </tr>\n",
              "    <tr>\n",
              "      <th>24</th>\n",
              "      <td>0.827955</td>\n",
              "      <td>0.035464</td>\n",
              "      <td>0.514980</td>\n",
              "      <td>0.339159</td>\n",
              "      <td>0.544892</td>\n",
              "      <td>1.000000</td>\n",
              "      <td>0.000000</td>\n",
              "      <td>0.299559</td>\n",
              "      <td>0.736842</td>\n",
              "      <td>0.111111</td>\n",
              "      <td>0.177340</td>\n",
              "    </tr>\n",
              "    <tr>\n",
              "      <th>25</th>\n",
              "      <td>0.827955</td>\n",
              "      <td>0.035464</td>\n",
              "      <td>0.514980</td>\n",
              "      <td>0.339159</td>\n",
              "      <td>0.544892</td>\n",
              "      <td>1.000000</td>\n",
              "      <td>0.000000</td>\n",
              "      <td>0.299559</td>\n",
              "      <td>0.736842</td>\n",
              "      <td>0.333333</td>\n",
              "      <td>0.152709</td>\n",
              "    </tr>\n",
              "    <tr>\n",
              "      <th>26</th>\n",
              "      <td>0.827955</td>\n",
              "      <td>0.035464</td>\n",
              "      <td>0.514980</td>\n",
              "      <td>0.339159</td>\n",
              "      <td>0.544892</td>\n",
              "      <td>1.000000</td>\n",
              "      <td>0.000000</td>\n",
              "      <td>0.299559</td>\n",
              "      <td>0.736842</td>\n",
              "      <td>0.555556</td>\n",
              "      <td>0.073892</td>\n",
              "    </tr>\n",
              "    <tr>\n",
              "      <th>27</th>\n",
              "      <td>0.463636</td>\n",
              "      <td>0.103663</td>\n",
              "      <td>0.619433</td>\n",
              "      <td>0.364667</td>\n",
              "      <td>0.653251</td>\n",
              "      <td>0.036726</td>\n",
              "      <td>0.701534</td>\n",
              "      <td>0.592993</td>\n",
              "      <td>0.473684</td>\n",
              "      <td>0.111111</td>\n",
              "      <td>0.748768</td>\n",
              "    </tr>\n",
              "    <tr>\n",
              "      <th>28</th>\n",
              "      <td>0.463636</td>\n",
              "      <td>0.103663</td>\n",
              "      <td>0.619433</td>\n",
              "      <td>0.364667</td>\n",
              "      <td>0.653251</td>\n",
              "      <td>0.036726</td>\n",
              "      <td>0.701534</td>\n",
              "      <td>0.592993</td>\n",
              "      <td>0.736842</td>\n",
              "      <td>0.111111</td>\n",
              "      <td>0.078818</td>\n",
              "    </tr>\n",
              "    <tr>\n",
              "      <th>29</th>\n",
              "      <td>0.463636</td>\n",
              "      <td>0.103663</td>\n",
              "      <td>0.619433</td>\n",
              "      <td>0.364667</td>\n",
              "      <td>0.653251</td>\n",
              "      <td>0.036726</td>\n",
              "      <td>0.701534</td>\n",
              "      <td>0.592993</td>\n",
              "      <td>1.000000</td>\n",
              "      <td>0.000000</td>\n",
              "      <td>0.000000</td>\n",
              "    </tr>\n",
              "    <tr>\n",
              "      <th>30</th>\n",
              "      <td>0.368182</td>\n",
              "      <td>0.446610</td>\n",
              "      <td>0.607287</td>\n",
              "      <td>0.274445</td>\n",
              "      <td>0.507740</td>\n",
              "      <td>0.037168</td>\n",
              "      <td>0.740046</td>\n",
              "      <td>0.592993</td>\n",
              "      <td>0.736842</td>\n",
              "      <td>0.111111</td>\n",
              "      <td>0.453202</td>\n",
              "    </tr>\n",
              "    <tr>\n",
              "      <th>31</th>\n",
              "      <td>0.484091</td>\n",
              "      <td>0.037412</td>\n",
              "      <td>0.724696</td>\n",
              "      <td>0.376476</td>\n",
              "      <td>0.188854</td>\n",
              "      <td>0.003319</td>\n",
              "      <td>0.746573</td>\n",
              "      <td>0.592993</td>\n",
              "      <td>0.736842</td>\n",
              "      <td>0.111111</td>\n",
              "      <td>0.044335</td>\n",
              "    </tr>\n",
              "    <tr>\n",
              "      <th>32</th>\n",
              "      <td>0.497727</td>\n",
              "      <td>0.072486</td>\n",
              "      <td>0.530364</td>\n",
              "      <td>0.534247</td>\n",
              "      <td>0.294118</td>\n",
              "      <td>0.002212</td>\n",
              "      <td>0.687337</td>\n",
              "      <td>0.314537</td>\n",
              "      <td>0.736842</td>\n",
              "      <td>0.333333</td>\n",
              "      <td>0.137931</td>\n",
              "    </tr>\n",
              "    <tr>\n",
              "      <th>33</th>\n",
              "      <td>0.000000</td>\n",
              "      <td>0.169914</td>\n",
              "      <td>1.000000</td>\n",
              "      <td>1.000000</td>\n",
              "      <td>0.000000</td>\n",
              "      <td>0.017478</td>\n",
              "      <td>0.530679</td>\n",
              "      <td>0.272247</td>\n",
              "      <td>0.736842</td>\n",
              "      <td>0.333333</td>\n",
              "      <td>0.837438</td>\n",
              "    </tr>\n",
              "    <tr>\n",
              "      <th>34</th>\n",
              "      <td>0.165909</td>\n",
              "      <td>0.805144</td>\n",
              "      <td>0.599190</td>\n",
              "      <td>0.394426</td>\n",
              "      <td>0.498452</td>\n",
              "      <td>0.038938</td>\n",
              "      <td>0.697781</td>\n",
              "      <td>0.000000</td>\n",
              "      <td>0.736842</td>\n",
              "      <td>0.333333</td>\n",
              "      <td>0.950739</td>\n",
              "    </tr>\n",
              "    <tr>\n",
              "      <th>35</th>\n",
              "      <td>0.402273</td>\n",
              "      <td>0.123149</td>\n",
              "      <td>0.700405</td>\n",
              "      <td>0.717997</td>\n",
              "      <td>0.386997</td>\n",
              "      <td>0.013496</td>\n",
              "      <td>0.600685</td>\n",
              "      <td>0.214978</td>\n",
              "      <td>0.736842</td>\n",
              "      <td>0.333333</td>\n",
              "      <td>0.517241</td>\n",
              "    </tr>\n",
              "    <tr>\n",
              "      <th>36</th>\n",
              "      <td>0.704545</td>\n",
              "      <td>0.006235</td>\n",
              "      <td>0.408907</td>\n",
              "      <td>0.478035</td>\n",
              "      <td>0.445820</td>\n",
              "      <td>0.000000</td>\n",
              "      <td>0.700392</td>\n",
              "      <td>0.265198</td>\n",
              "      <td>0.736842</td>\n",
              "      <td>0.333333</td>\n",
              "      <td>0.029557</td>\n",
              "    </tr>\n",
              "    <tr>\n",
              "      <th>37</th>\n",
              "      <td>0.450000</td>\n",
              "      <td>0.181606</td>\n",
              "      <td>0.631579</td>\n",
              "      <td>0.615021</td>\n",
              "      <td>0.541796</td>\n",
              "      <td>0.025885</td>\n",
              "      <td>0.628916</td>\n",
              "      <td>0.171806</td>\n",
              "      <td>0.736842</td>\n",
              "      <td>0.333333</td>\n",
              "      <td>0.482759</td>\n",
              "    </tr>\n",
              "    <tr>\n",
              "      <th>38</th>\n",
              "      <td>0.698182</td>\n",
              "      <td>0.213952</td>\n",
              "      <td>0.560729</td>\n",
              "      <td>0.017950</td>\n",
              "      <td>0.455108</td>\n",
              "      <td>0.124115</td>\n",
              "      <td>0.767298</td>\n",
              "      <td>0.592993</td>\n",
              "      <td>0.736842</td>\n",
              "      <td>0.111111</td>\n",
              "      <td>0.458128</td>\n",
              "    </tr>\n",
              "    <tr>\n",
              "      <th>39</th>\n",
              "      <td>0.647045</td>\n",
              "      <td>0.033905</td>\n",
              "      <td>0.838057</td>\n",
              "      <td>0.228625</td>\n",
              "      <td>0.582043</td>\n",
              "      <td>0.133186</td>\n",
              "      <td>0.681136</td>\n",
              "      <td>0.592993</td>\n",
              "      <td>0.736842</td>\n",
              "      <td>0.111111</td>\n",
              "      <td>1.000000</td>\n",
              "    </tr>\n",
              "    <tr>\n",
              "      <th>40</th>\n",
              "      <td>0.576818</td>\n",
              "      <td>0.224084</td>\n",
              "      <td>0.766397</td>\n",
              "      <td>0.088333</td>\n",
              "      <td>0.498452</td>\n",
              "      <td>0.127212</td>\n",
              "      <td>0.738414</td>\n",
              "      <td>0.592993</td>\n",
              "      <td>0.473684</td>\n",
              "      <td>0.111111</td>\n",
              "      <td>0.704433</td>\n",
              "    </tr>\n",
              "    <tr>\n",
              "      <th>41</th>\n",
              "      <td>0.576818</td>\n",
              "      <td>0.224084</td>\n",
              "      <td>0.766397</td>\n",
              "      <td>0.088333</td>\n",
              "      <td>0.498452</td>\n",
              "      <td>0.127212</td>\n",
              "      <td>0.738414</td>\n",
              "      <td>0.592993</td>\n",
              "      <td>0.605263</td>\n",
              "      <td>0.111111</td>\n",
              "      <td>0.576355</td>\n",
              "    </tr>\n",
              "    <tr>\n",
              "      <th>42</th>\n",
              "      <td>0.576818</td>\n",
              "      <td>0.224084</td>\n",
              "      <td>0.766397</td>\n",
              "      <td>0.088333</td>\n",
              "      <td>0.498452</td>\n",
              "      <td>0.127212</td>\n",
              "      <td>0.738414</td>\n",
              "      <td>0.592993</td>\n",
              "      <td>0.736842</td>\n",
              "      <td>0.111111</td>\n",
              "      <td>0.507389</td>\n",
              "    </tr>\n",
              "    <tr>\n",
              "      <th>43</th>\n",
              "      <td>0.576818</td>\n",
              "      <td>0.224084</td>\n",
              "      <td>0.766397</td>\n",
              "      <td>0.088333</td>\n",
              "      <td>0.498452</td>\n",
              "      <td>0.127212</td>\n",
              "      <td>0.738414</td>\n",
              "      <td>0.592993</td>\n",
              "      <td>0.868421</td>\n",
              "      <td>0.111111</td>\n",
              "      <td>0.458128</td>\n",
              "    </tr>\n",
              "    <tr>\n",
              "      <th>44</th>\n",
              "      <td>0.761364</td>\n",
              "      <td>0.196025</td>\n",
              "      <td>0.202834</td>\n",
              "      <td>0.109589</td>\n",
              "      <td>0.383901</td>\n",
              "      <td>0.004646</td>\n",
              "      <td>0.827676</td>\n",
              "      <td>0.592993</td>\n",
              "      <td>0.736842</td>\n",
              "      <td>0.088889</td>\n",
              "      <td>0.586207</td>\n",
              "    </tr>\n",
              "    <tr>\n",
              "      <th>45</th>\n",
              "      <td>0.763636</td>\n",
              "      <td>0.000000</td>\n",
              "      <td>0.106073</td>\n",
              "      <td>0.111479</td>\n",
              "      <td>0.501548</td>\n",
              "      <td>0.003540</td>\n",
              "      <td>0.821802</td>\n",
              "      <td>0.592993</td>\n",
              "      <td>0.736842</td>\n",
              "      <td>0.088889</td>\n",
              "      <td>0.420690</td>\n",
              "    </tr>\n",
              "    <tr>\n",
              "      <th>46</th>\n",
              "      <td>0.401364</td>\n",
              "      <td>0.470772</td>\n",
              "      <td>0.458300</td>\n",
              "      <td>0.000000</td>\n",
              "      <td>0.374613</td>\n",
              "      <td>0.037832</td>\n",
              "      <td>0.841547</td>\n",
              "      <td>0.592993</td>\n",
              "      <td>0.736842</td>\n",
              "      <td>0.088889</td>\n",
              "      <td>0.741379</td>\n",
              "    </tr>\n",
              "    <tr>\n",
              "      <th>47</th>\n",
              "      <td>0.610000</td>\n",
              "      <td>0.156664</td>\n",
              "      <td>0.453036</td>\n",
              "      <td>0.158715</td>\n",
              "      <td>0.597523</td>\n",
              "      <td>0.003319</td>\n",
              "      <td>0.800424</td>\n",
              "      <td>0.592993</td>\n",
              "      <td>0.736842</td>\n",
              "      <td>0.088889</td>\n",
              "      <td>0.341379</td>\n",
              "    </tr>\n",
              "    <tr>\n",
              "      <th>48</th>\n",
              "      <td>0.923636</td>\n",
              "      <td>0.015588</td>\n",
              "      <td>0.365587</td>\n",
              "      <td>0.341049</td>\n",
              "      <td>0.622291</td>\n",
              "      <td>0.003097</td>\n",
              "      <td>0.736129</td>\n",
              "      <td>0.534802</td>\n",
              "      <td>0.000000</td>\n",
              "      <td>0.111111</td>\n",
              "      <td>0.646305</td>\n",
              "    </tr>\n",
              "    <tr>\n",
              "      <th>49</th>\n",
              "      <td>0.923636</td>\n",
              "      <td>0.015588</td>\n",
              "      <td>0.365587</td>\n",
              "      <td>0.341049</td>\n",
              "      <td>0.622291</td>\n",
              "      <td>0.003097</td>\n",
              "      <td>0.736129</td>\n",
              "      <td>0.534802</td>\n",
              "      <td>0.052632</td>\n",
              "      <td>0.111111</td>\n",
              "      <td>0.605911</td>\n",
              "    </tr>\n",
              "    <tr>\n",
              "      <th>50</th>\n",
              "      <td>0.923636</td>\n",
              "      <td>0.015588</td>\n",
              "      <td>0.365587</td>\n",
              "      <td>0.341049</td>\n",
              "      <td>0.622291</td>\n",
              "      <td>0.003097</td>\n",
              "      <td>0.736129</td>\n",
              "      <td>0.534802</td>\n",
              "      <td>0.105263</td>\n",
              "      <td>0.111111</td>\n",
              "      <td>0.555665</td>\n",
              "    </tr>\n",
              "    <tr>\n",
              "      <th>51</th>\n",
              "      <td>0.923636</td>\n",
              "      <td>0.015588</td>\n",
              "      <td>0.365587</td>\n",
              "      <td>0.341049</td>\n",
              "      <td>0.622291</td>\n",
              "      <td>0.003097</td>\n",
              "      <td>0.736129</td>\n",
              "      <td>0.534802</td>\n",
              "      <td>0.157895</td>\n",
              "      <td>0.111111</td>\n",
              "      <td>0.458128</td>\n",
              "    </tr>\n",
              "    <tr>\n",
              "      <th>52</th>\n",
              "      <td>0.923636</td>\n",
              "      <td>0.015588</td>\n",
              "      <td>0.365587</td>\n",
              "      <td>0.341049</td>\n",
              "      <td>0.622291</td>\n",
              "      <td>0.003097</td>\n",
              "      <td>0.736129</td>\n",
              "      <td>0.534802</td>\n",
              "      <td>0.210526</td>\n",
              "      <td>0.111111</td>\n",
              "      <td>0.413793</td>\n",
              "    </tr>\n",
              "    <tr>\n",
              "      <th>53</th>\n",
              "      <td>0.820000</td>\n",
              "      <td>0.017147</td>\n",
              "      <td>0.548178</td>\n",
              "      <td>0.433632</td>\n",
              "      <td>0.625387</td>\n",
              "      <td>0.003540</td>\n",
              "      <td>0.703655</td>\n",
              "      <td>0.605286</td>\n",
              "      <td>0.000000</td>\n",
              "      <td>0.111111</td>\n",
              "      <td>0.698030</td>\n",
              "    </tr>\n",
              "    <tr>\n",
              "      <th>54</th>\n",
              "      <td>0.820000</td>\n",
              "      <td>0.017147</td>\n",
              "      <td>0.548178</td>\n",
              "      <td>0.433632</td>\n",
              "      <td>0.625387</td>\n",
              "      <td>0.003540</td>\n",
              "      <td>0.703655</td>\n",
              "      <td>0.605286</td>\n",
              "      <td>0.052632</td>\n",
              "      <td>0.111111</td>\n",
              "      <td>0.603448</td>\n",
              "    </tr>\n",
              "    <tr>\n",
              "      <th>55</th>\n",
              "      <td>0.820000</td>\n",
              "      <td>0.017147</td>\n",
              "      <td>0.548178</td>\n",
              "      <td>0.433632</td>\n",
              "      <td>0.625387</td>\n",
              "      <td>0.003540</td>\n",
              "      <td>0.703655</td>\n",
              "      <td>0.605286</td>\n",
              "      <td>0.105263</td>\n",
              "      <td>0.111111</td>\n",
              "      <td>0.557143</td>\n",
              "    </tr>\n",
              "    <tr>\n",
              "      <th>56</th>\n",
              "      <td>0.820000</td>\n",
              "      <td>0.017147</td>\n",
              "      <td>0.548178</td>\n",
              "      <td>0.433632</td>\n",
              "      <td>0.625387</td>\n",
              "      <td>0.003540</td>\n",
              "      <td>0.703655</td>\n",
              "      <td>0.605286</td>\n",
              "      <td>0.157895</td>\n",
              "      <td>0.111111</td>\n",
              "      <td>0.501478</td>\n",
              "    </tr>\n",
              "    <tr>\n",
              "      <th>57</th>\n",
              "      <td>0.820000</td>\n",
              "      <td>0.017147</td>\n",
              "      <td>0.548178</td>\n",
              "      <td>0.433632</td>\n",
              "      <td>0.625387</td>\n",
              "      <td>0.003540</td>\n",
              "      <td>0.703655</td>\n",
              "      <td>0.605286</td>\n",
              "      <td>0.210526</td>\n",
              "      <td>0.111111</td>\n",
              "      <td>0.408374</td>\n",
              "    </tr>\n",
              "  </tbody>\n",
              "</table>\n",
              "</div>"
            ],
            "text/plain": [
              "    volatile_bm    ash_bm  fixed carbon_bm  ...      temp  heating rate     yield\n",
              "0      0.770455  0.107560         0.542510  ...  0.473684      0.111111  0.630542\n",
              "1      0.770455  0.107560         0.542510  ...  0.605263      0.111111  0.467980\n",
              "2      0.770455  0.107560         0.542510  ...  0.736842      0.111111  0.413793\n",
              "3      0.770455  0.107560         0.542510  ...  0.868421      0.111111  0.344828\n",
              "4      0.770455  0.107560         0.542510  ...  1.000000      0.111111  0.315271\n",
              "5      0.770455  0.107560         0.542510  ...  0.473684      0.555556  0.433498\n",
              "6      0.770455  0.107560         0.542510  ...  0.605263      0.555556  0.394089\n",
              "7      0.770455  0.107560         0.542510  ...  0.736842      0.555556  0.334975\n",
              "8      0.770455  0.107560         0.542510  ...  0.868421      0.555556  0.275862\n",
              "9      0.770455  0.107560         0.542510  ...  1.000000      0.555556  0.251232\n",
              "10     0.770455  0.107560         0.542510  ...  0.473684      1.000000  0.344828\n",
              "11     0.770455  0.107560         0.542510  ...  0.605263      1.000000  0.334975\n",
              "12     0.770455  0.107560         0.542510  ...  0.736842      1.000000  0.251232\n",
              "13     0.770455  0.107560         0.542510  ...  0.868421      1.000000  0.241379\n",
              "14     0.770455  0.107560         0.542510  ...  1.000000      1.000000  0.152709\n",
              "15     0.568182  1.000000         0.056680  ...  0.868421      0.111111  0.497537\n",
              "16     0.822727  0.563523         0.153846  ...  0.868421      0.111111  0.295567\n",
              "17     0.722727  0.731099         0.769231  ...  0.868421      0.111111  0.852217\n",
              "18     0.638636  0.879189         0.000000  ...  0.868421      0.111111  0.320197\n",
              "19     0.836364  0.540140         0.295547  ...  0.868421      0.111111  0.423645\n",
              "20     1.000000  0.259548         0.145749  ...  0.868421      0.111111  0.310345\n",
              "21     0.713636  0.750585         0.157895  ...  0.868421      0.111111  0.433498\n",
              "22     0.822727  0.563523         0.190283  ...  0.868421      0.111111  0.448276\n",
              "23     0.827955  0.035464         0.514980  ...  0.736842      0.000000  0.458128\n",
              "24     0.827955  0.035464         0.514980  ...  0.736842      0.111111  0.177340\n",
              "25     0.827955  0.035464         0.514980  ...  0.736842      0.333333  0.152709\n",
              "26     0.827955  0.035464         0.514980  ...  0.736842      0.555556  0.073892\n",
              "27     0.463636  0.103663         0.619433  ...  0.473684      0.111111  0.748768\n",
              "28     0.463636  0.103663         0.619433  ...  0.736842      0.111111  0.078818\n",
              "29     0.463636  0.103663         0.619433  ...  1.000000      0.000000  0.000000\n",
              "30     0.368182  0.446610         0.607287  ...  0.736842      0.111111  0.453202\n",
              "31     0.484091  0.037412         0.724696  ...  0.736842      0.111111  0.044335\n",
              "32     0.497727  0.072486         0.530364  ...  0.736842      0.333333  0.137931\n",
              "33     0.000000  0.169914         1.000000  ...  0.736842      0.333333  0.837438\n",
              "34     0.165909  0.805144         0.599190  ...  0.736842      0.333333  0.950739\n",
              "35     0.402273  0.123149         0.700405  ...  0.736842      0.333333  0.517241\n",
              "36     0.704545  0.006235         0.408907  ...  0.736842      0.333333  0.029557\n",
              "37     0.450000  0.181606         0.631579  ...  0.736842      0.333333  0.482759\n",
              "38     0.698182  0.213952         0.560729  ...  0.736842      0.111111  0.458128\n",
              "39     0.647045  0.033905         0.838057  ...  0.736842      0.111111  1.000000\n",
              "40     0.576818  0.224084         0.766397  ...  0.473684      0.111111  0.704433\n",
              "41     0.576818  0.224084         0.766397  ...  0.605263      0.111111  0.576355\n",
              "42     0.576818  0.224084         0.766397  ...  0.736842      0.111111  0.507389\n",
              "43     0.576818  0.224084         0.766397  ...  0.868421      0.111111  0.458128\n",
              "44     0.761364  0.196025         0.202834  ...  0.736842      0.088889  0.586207\n",
              "45     0.763636  0.000000         0.106073  ...  0.736842      0.088889  0.420690\n",
              "46     0.401364  0.470772         0.458300  ...  0.736842      0.088889  0.741379\n",
              "47     0.610000  0.156664         0.453036  ...  0.736842      0.088889  0.341379\n",
              "48     0.923636  0.015588         0.365587  ...  0.000000      0.111111  0.646305\n",
              "49     0.923636  0.015588         0.365587  ...  0.052632      0.111111  0.605911\n",
              "50     0.923636  0.015588         0.365587  ...  0.105263      0.111111  0.555665\n",
              "51     0.923636  0.015588         0.365587  ...  0.157895      0.111111  0.458128\n",
              "52     0.923636  0.015588         0.365587  ...  0.210526      0.111111  0.413793\n",
              "53     0.820000  0.017147         0.548178  ...  0.000000      0.111111  0.698030\n",
              "54     0.820000  0.017147         0.548178  ...  0.052632      0.111111  0.603448\n",
              "55     0.820000  0.017147         0.548178  ...  0.105263      0.111111  0.557143\n",
              "56     0.820000  0.017147         0.548178  ...  0.157895      0.111111  0.501478\n",
              "57     0.820000  0.017147         0.548178  ...  0.210526      0.111111  0.408374\n",
              "\n",
              "[58 rows x 11 columns]"
            ]
          },
          "metadata": {
            "tags": []
          },
          "execution_count": 22
        }
      ]
    },
    {
      "cell_type": "markdown",
      "metadata": {
        "id": "eJbJ4jcAIXxz"
      },
      "source": [
        "## Machine Learning Models\n"
      ]
    },
    {
      "cell_type": "markdown",
      "metadata": {
        "id": "l_lV0vsBIirf"
      },
      "source": [
        "X contains all the features required for prediction\n",
        "Y contains the biochar \n",
        "\n",
        "Now,spliting the data into train and test data sets in the 80:20 ratio\n"
      ]
    },
    {
      "cell_type": "code",
      "metadata": {
        "id": "XXf30vrQvMS1"
      },
      "source": [
        "X=dataset.drop(\"yield\",axis=1)\n",
        "y=dataset[\"yield\"]"
      ],
      "execution_count": null,
      "outputs": []
    },
    {
      "cell_type": "code",
      "metadata": {
        "id": "vbANLL0ZvnzM"
      },
      "source": [
        "from sklearn import preprocessing, svm \n",
        "from sklearn.model_selection import train_test_split \n",
        "from sklearn.linear_model import LinearRegression "
      ],
      "execution_count": null,
      "outputs": []
    },
    {
      "cell_type": "markdown",
      "metadata": {
        "id": "M0Ks9sn1I7Hx"
      },
      "source": [
        "#### Starting with the very simple model \n",
        " **Linear Regression**"
      ]
    },
    {
      "cell_type": "code",
      "metadata": {
        "id": "56XB79AEwVgW",
        "outputId": "dcb0f3b0-f62b-4cdb-d9fc-af07e39babc0",
        "colab": {
          "base_uri": "https://localhost:8080/",
          "height": 51
        }
      },
      "source": [
        "X_train, X_test, y_train, y_test = train_test_split(X, y, test_size = 0.2,random_state=12345) \n",
        "  \n",
        "# Splitting the data into training and testing data \n",
        "regr = LinearRegression() \n",
        "  \n",
        "regr.fit(X_train, y_train) \n",
        "y_pred=regr.predict(X_test)\n",
        "print(metrics.mean_squared_error(y_test,y_pred)) \n",
        "print(metrics.r2_score(y_test,y_pred))"
      ],
      "execution_count": null,
      "outputs": [
        {
          "output_type": "stream",
          "text": [
            "0.020550522313729246\n",
            "0.13246072782111906\n"
          ],
          "name": "stdout"
        }
      ]
    },
    {
      "cell_type": "markdown",
      "metadata": {
        "id": "7aKSQoY_JLB1"
      },
      "source": [
        "We can see the values predicted by model is \n",
        "Mean Squared Error:0.020550522313729246\n",
        "\n",
        "R2_score :0.13246072782111906"
      ]
    },
    {
      "cell_type": "markdown",
      "metadata": {
        "id": "6P2TNmrEJh7e"
      },
      "source": [
        "Plotting the data between the predicted values and the true values and trying to fit a line "
      ]
    },
    {
      "cell_type": "code",
      "metadata": {
        "id": "pUxoKHd9uwq_",
        "outputId": "c8851dab-7fbf-4a37-f84e-31a2755a20a9",
        "colab": {
          "base_uri": "https://localhost:8080/",
          "height": 283
        }
      },
      "source": [
        "a = plt.axes(aspect='equal')\n",
        "plt.scatter(y_test, y_pred)\n",
        "plt.xlabel('True Values ')\n",
        "plt.ylabel('Predictions')\n",
        "lims = [0,1]\n",
        "plt.xlim(lims)\n",
        "plt.ylim(lims)\n",
        "_ = plt.plot(lims, lims)"
      ],
      "execution_count": null,
      "outputs": [
        {
          "output_type": "display_data",
          "data": {
            "image/png": "[encoded data removed]",
            "text/plain": [
              "<Figure size 432x288 with 1 Axes>"
            ]
          },
          "metadata": {
            "tags": [],
            "needs_background": "light"
          }
        }
      ]
    },
    {
      "cell_type": "markdown",
      "metadata": {
        "id": "6G6h6MFkJu-c"
      },
      "source": [
        "Support Vector Machine Regressor "
      ]
    },
    {
      "cell_type": "code",
      "metadata": {
        "id": "Zm7FEMotwdsK",
        "outputId": "61a24439-7c35-432b-c280-3f762187456b",
        "colab": {
          "base_uri": "https://localhost:8080/",
          "height": 51
        }
      },
      "source": [
        "from sklearn.svm import SVR\n",
        "regressor = SVR(kernel='linear',C=1,degree=4)\n",
        "regressor.fit(X_train,y_train)\n",
        "y_pred_svr = regressor.predict(X_test)\n",
        "print(metrics.mean_squared_error(y_test,y_pred_svr))\n",
        "print(metrics.r2_score(y_test,y_pred_svr))"
      ],
      "execution_count": null,
      "outputs": [
        {
          "output_type": "stream",
          "text": [
            "0.01760091480847106\n",
            "0.25697826120836154\n"
          ],
          "name": "stdout"
        }
      ]
    },
    {
      "cell_type": "markdown",
      "metadata": {
        "id": "8gqvUAnNJ23r"
      },
      "source": [
        "MSE : 0.01760091480847106\n",
        "\n",
        "R2 _score:0.25697826120836154\n"
      ]
    },
    {
      "cell_type": "markdown",
      "metadata": {
        "id": "bgcqfIXMKAFU"
      },
      "source": [
        "Plotting the graph and fitting the line \n"
      ]
    },
    {
      "cell_type": "code",
      "metadata": {
        "id": "6zWh8JqRu7NI",
        "outputId": "68f84334-b960-43db-d091-d75df85b639a",
        "colab": {
          "base_uri": "https://localhost:8080/",
          "height": 283
        }
      },
      "source": [
        "a = plt.axes(aspect='equal')\n",
        "plt.scatter(y_test, y_pred_svr)\n",
        "plt.xlabel('True Values ')\n",
        "plt.ylabel('Predictions')\n",
        "lims = [0,1]\n",
        "plt.xlim(lims)\n",
        "plt.ylim(lims)\n",
        "_ = plt.plot(lims, lims)"
      ],
      "execution_count": null,
      "outputs": [
        {
          "output_type": "display_data",
          "data": {
            "image/png": "[encoded data removed]",
            "text/plain": [
              "<Figure size 432x288 with 1 Axes>"
            ]
          },
          "metadata": {
            "tags": [],
            "needs_background": "light"
          }
        }
      ]
    },
    {
      "cell_type": "markdown",
      "metadata": {
        "id": "86dh7y_XKHDx"
      },
      "source": [
        "Decision Tree Regressor "
      ]
    },
    {
      "cell_type": "code",
      "metadata": {
        "id": "uagnwTjBVPmH",
        "outputId": "74b93c48-e7d2-4b0e-e8ca-d5352b7fce4f",
        "colab": {
          "base_uri": "https://localhost:8080/",
          "height": 51
        }
      },
      "source": [
        "# import the regressor \n",
        "from sklearn.tree import DecisionTreeRegressor  \n",
        "  \n",
        "# create a regressor object \n",
        "regressor = DecisionTreeRegressor(random_state = 12345,max_depth=8,max_features='auto')  \n",
        "  \n",
        "# fit the regressor with X and Y data \n",
        "regressor.fit(X_train, y_train)\n",
        "y_pred_dt=regressor.predict(X_test)\n",
        "print(metrics.mean_squared_error(y_test,y_pred_dt))\n",
        "print(metrics.r2_score(y_test,y_pred_dt))\n"
      ],
      "execution_count": null,
      "outputs": [
        {
          "output_type": "stream",
          "text": [
            "0.013379071274433945\n",
            "0.4352031749530004\n"
          ],
          "name": "stdout"
        }
      ]
    },
    {
      "cell_type": "markdown",
      "metadata": {
        "id": "PCbNEXQaKN7U"
      },
      "source": [
        "MSE: 0.013\n",
        "\n",
        "R2_score:0.4352"
      ]
    },
    {
      "cell_type": "markdown",
      "metadata": {
        "id": "nO99PiDgKnsL"
      },
      "source": [
        "PLotting the graph and fitting the line "
      ]
    },
    {
      "cell_type": "code",
      "metadata": {
        "id": "QQ2Zg-UnvAnS",
        "outputId": "8561c679-e2ef-43e6-877b-58edb3ad22e9",
        "colab": {
          "base_uri": "https://localhost:8080/",
          "height": 283
        }
      },
      "source": [
        "a = plt.axes(aspect='equal')\n",
        "plt.scatter(y_test, y_pred_dt)\n",
        "plt.xlabel('True Values ')\n",
        "plt.ylabel('Predictions')\n",
        "lims = [0,1]\n",
        "plt.xlim(lims)\n",
        "plt.ylim(lims)\n",
        "_ = plt.plot(lims, lims)"
      ],
      "execution_count": null,
      "outputs": [
        {
          "output_type": "display_data",
          "data": {
            "image/png": "[encoded data removed]",
            "text/plain": [
              "<Figure size 432x288 with 1 Axes>"
            ]
          },
          "metadata": {
            "tags": [],
            "needs_background": "light"
          }
        }
      ]
    },
    {
      "cell_type": "markdown",
      "metadata": {
        "id": "k8Ewy-utKsY1"
      },
      "source": [
        "**Random Forest Regressor**"
      ]
    },
    {
      "cell_type": "code",
      "metadata": {
        "id": "eRt27ThT02vx",
        "outputId": "72509b05-0e57-4fab-e409-8a50f0e638c4",
        "colab": {
          "base_uri": "https://localhost:8080/",
          "height": 51
        }
      },
      "source": [
        "# Fitting Random Forest Regression to the dataset \n",
        "# import the regressor \n",
        "from sklearn.ensemble import RandomForestRegressor \n",
        "  \n",
        " # create regressor object \n",
        "regressor = RandomForestRegressor(n_estimators = 50, random_state =3,max_depth=8,n_jobs=-1,min_samples_leaf=3,max_features='auto') \n",
        "# fit the regressor with x and y data \n",
        "regressor.fit(X_train, y_train)\n",
        "y_pred_rf = regressor.predict(X_test)\n",
        "print(metrics.mean_squared_error(y_test,y_pred_rf))\n",
        "print(metrics.r2_score(y_test,y_pred_rf))\n"
      ],
      "execution_count": null,
      "outputs": [
        {
          "output_type": "stream",
          "text": [
            "0.012936525813430131\n",
            "0.4538852094669761\n"
          ],
          "name": "stdout"
        }
      ]
    },
    {
      "cell_type": "markdown",
      "metadata": {
        "id": "7LOMqTamQbHG"
      },
      "source": [
        "MSE: 0.0129\n",
        "\n",
        "R2_score : 0.4538\n",
        "\n",
        "Plotting the graph and fitting the line"
      ]
    },
    {
      "cell_type": "code",
      "metadata": {
        "id": "NkP79aNIupNT",
        "outputId": "6babe160-558b-46cd-9578-4ed96f088e43",
        "colab": {
          "base_uri": "https://localhost:8080/",
          "height": 283
        }
      },
      "source": [
        "a = plt.axes(aspect='equal')\n",
        "plt.scatter(y_test, y_pred_rf)\n",
        "plt.xlabel('True Values ')\n",
        "plt.ylabel('Predictions')\n",
        "lims = [0,1]\n",
        "plt.xlim(lims)\n",
        "plt.ylim(lims)\n",
        "_ = plt.plot(lims, lims)"
      ],
      "execution_count": null,
      "outputs": [
        {
          "output_type": "display_data",
          "data": {
            "image/png": "[encoded data removed]",
            "text/plain": [
              "<Figure size 432x288 with 1 Axes>"
            ]
          },
          "metadata": {
            "tags": [],
            "needs_background": "light"
          }
        }
      ]
    },
    {
      "cell_type": "markdown",
      "metadata": {
        "id": "fBXU7HXDQsGu"
      },
      "source": [
        "**Gradient Boosting Regression**"
      ]
    },
    {
      "cell_type": "code",
      "metadata": {
        "id": "OoUy9S5da2-o",
        "outputId": "8bee3a02-9886-49ad-a354-e38d738da3ff",
        "colab": {
          "base_uri": "https://localhost:8080/",
          "height": 1000
        }
      },
      "source": [
        "from sklearn import ensemble\n",
        "params = {'n_estimators': 150,\n",
        "          'max_depth': 8,\n",
        "          'learning_rate': 0.01,\n",
        "          'loss': 'ls',\n",
        "          'max_features':'auto',\n",
        "          'min_samples_leaf':2,\n",
        "          'random_state':12345,\n",
        "          'verbose':2}\n",
        "reg = ensemble.GradientBoostingRegressor(**params)\n",
        "reg.fit(X_train, y_train)\n",
        "y_pred_gb=reg.predict(X_test)\n",
        "print(metrics.mean_squared_error(y_test,y_pred_gb))\n",
        "print(metrics.r2_score(y_test,y_pred_gb))\n"
      ],
      "execution_count": null,
      "outputs": [
        {
          "output_type": "stream",
          "text": [
            "      Iter       Train Loss   Remaining Time \n",
            "         1           0.0526            0.45s\n",
            "         2           0.0517            0.29s\n",
            "         3           0.0508            0.23s\n",
            "         4           0.0499            0.20s\n",
            "         5           0.0490            0.18s\n",
            "         6           0.0481            0.17s\n",
            "         7           0.0473            0.16s\n",
            "         8           0.0464            0.16s\n",
            "         9           0.0456            0.15s\n",
            "        10           0.0448            0.15s\n",
            "        11           0.0440            0.14s\n",
            "        12           0.0432            0.14s\n",
            "        13           0.0425            0.14s\n",
            "        14           0.0417            0.13s\n",
            "        15           0.0410            0.13s\n",
            "        16           0.0403            0.13s\n",
            "        17           0.0396            0.13s\n",
            "        18           0.0389            0.13s\n",
            "        19           0.0382            0.13s\n",
            "        20           0.0375            0.13s\n",
            "        21           0.0369            0.13s\n",
            "        22           0.0362            0.13s\n",
            "        23           0.0356            0.13s\n",
            "        24           0.0350            0.13s\n",
            "        25           0.0344            0.13s\n",
            "        26           0.0338            0.13s\n",
            "        27           0.0332            0.12s\n",
            "        28           0.0326            0.12s\n",
            "        29           0.0320            0.12s\n",
            "        30           0.0315            0.12s\n",
            "        31           0.0309            0.12s\n",
            "        32           0.0304            0.12s\n",
            "        33           0.0299            0.11s\n",
            "        34           0.0294            0.11s\n",
            "        35           0.0289            0.11s\n",
            "        36           0.0284            0.11s\n",
            "        37           0.0279            0.11s\n",
            "        38           0.0274            0.11s\n",
            "        39           0.0269            0.11s\n",
            "        40           0.0265            0.10s\n",
            "        41           0.0260            0.10s\n",
            "        42           0.0256            0.10s\n",
            "        43           0.0252            0.10s\n",
            "        44           0.0247            0.10s\n",
            "        45           0.0243            0.10s\n",
            "        46           0.0239            0.10s\n",
            "        47           0.0235            0.10s\n",
            "        48           0.0231            0.09s\n",
            "        49           0.0227            0.09s\n",
            "        50           0.0223            0.09s\n",
            "        51           0.0220            0.09s\n",
            "        52           0.0216            0.09s\n",
            "        53           0.0212            0.09s\n",
            "        54           0.0209            0.09s\n",
            "        55           0.0205            0.09s\n",
            "        56           0.0202            0.09s\n",
            "        57           0.0198            0.08s\n",
            "        58           0.0195            0.08s\n",
            "        59           0.0192            0.08s\n",
            "        60           0.0189            0.08s\n",
            "        61           0.0186            0.08s\n",
            "        62           0.0183            0.08s\n",
            "        63           0.0179            0.08s\n",
            "        64           0.0176            0.08s\n",
            "        65           0.0174            0.08s\n",
            "        66           0.0171            0.08s\n",
            "        67           0.0168            0.08s\n",
            "        68           0.0165            0.07s\n",
            "        69           0.0162            0.07s\n",
            "        70           0.0160            0.07s\n",
            "        71           0.0157            0.07s\n",
            "        72           0.0155            0.07s\n",
            "        73           0.0152            0.07s\n",
            "        74           0.0150            0.07s\n",
            "        75           0.0147            0.07s\n",
            "        76           0.0145            0.07s\n",
            "        77           0.0143            0.07s\n",
            "        78           0.0140            0.07s\n",
            "        79           0.0138            0.07s\n",
            "        80           0.0136            0.07s\n",
            "        81           0.0134            0.06s\n",
            "        82           0.0131            0.06s\n",
            "        83           0.0129            0.06s\n",
            "        84           0.0127            0.06s\n",
            "        85           0.0125            0.06s\n",
            "        86           0.0123            0.06s\n",
            "        87           0.0121            0.06s\n",
            "        88           0.0120            0.06s\n",
            "        89           0.0118            0.06s\n",
            "        90           0.0116            0.06s\n",
            "        91           0.0114            0.05s\n",
            "        92           0.0112            0.05s\n",
            "        93           0.0111            0.05s\n",
            "        94           0.0109            0.05s\n",
            "        95           0.0107            0.05s\n",
            "        96           0.0105            0.05s\n",
            "        97           0.0103            0.05s\n",
            "        98           0.0101            0.07s\n",
            "        99           0.0100            0.07s\n",
            "       100           0.0098            0.06s\n",
            "       101           0.0096            0.06s\n",
            "       102           0.0095            0.06s\n",
            "       103           0.0093            0.06s\n",
            "       104           0.0092            0.06s\n",
            "       105           0.0090            0.06s\n",
            "       106           0.0089            0.06s\n",
            "       107           0.0087            0.05s\n",
            "       108           0.0086            0.05s\n",
            "       109           0.0084            0.05s\n",
            "       110           0.0083            0.05s\n",
            "       111           0.0081            0.05s\n",
            "       112           0.0080            0.05s\n",
            "       113           0.0079            0.05s\n",
            "       114           0.0078            0.04s\n",
            "       115           0.0076            0.04s\n",
            "       116           0.0075            0.04s\n",
            "       117           0.0074            0.04s\n",
            "       118           0.0073            0.04s\n",
            "       119           0.0071            0.04s\n",
            "       120           0.0070            0.04s\n",
            "       121           0.0069            0.03s\n",
            "       122           0.0068            0.03s\n",
            "       123           0.0067            0.03s\n",
            "       124           0.0066            0.03s\n",
            "       125           0.0065            0.03s\n",
            "       126           0.0063            0.03s\n",
            "       127           0.0062            0.03s\n",
            "       128           0.0061            0.03s\n",
            "       129           0.0060            0.02s\n",
            "       130           0.0059            0.02s\n",
            "       131           0.0058            0.02s\n",
            "       132           0.0058            0.02s\n",
            "       133           0.0057            0.02s\n",
            "       134           0.0056            0.02s\n",
            "       135           0.0055            0.02s\n",
            "       136           0.0054            0.02s\n",
            "       137           0.0053            0.02s\n",
            "       138           0.0052            0.01s\n",
            "       139           0.0052            0.01s\n",
            "       140           0.0051            0.01s\n",
            "       141           0.0050            0.01s\n",
            "       142           0.0049            0.01s\n",
            "       143           0.0048            0.01s\n",
            "       144           0.0048            0.01s\n",
            "       145           0.0047            0.01s\n",
            "       146           0.0046            0.00s\n",
            "       147           0.0046            0.00s\n",
            "       148           0.0045            0.00s\n",
            "       149           0.0044            0.00s\n",
            "       150           0.0044            0.00s\n",
            "0.009398869011593973\n",
            "0.6032272145134003\n"
          ],
          "name": "stdout"
        }
      ]
    },
    {
      "cell_type": "markdown",
      "metadata": {
        "id": "aPPqchXCQ1em"
      },
      "source": [
        "MSE: 0.00939\n",
        "\n",
        "R2_score : 0.60322\n",
        "\n",
        "Plotting the graph and fitting the line"
      ]
    },
    {
      "cell_type": "code",
      "metadata": {
        "id": "8CRN7ULIuD4A",
        "outputId": "1f075f7b-d1ca-4dee-933d-583cdb5ae579",
        "colab": {
          "base_uri": "https://localhost:8080/",
          "height": 283
        }
      },
      "source": [
        "a = plt.axes(aspect='equal')\n",
        "plt.scatter(y_test, y_pred_gb)\n",
        "plt.xlabel('True Values ')\n",
        "plt.ylabel('Predictions')\n",
        "lims = [0,1]\n",
        "plt.xlim(lims)\n",
        "plt.ylim(lims)\n",
        "_ = plt.plot(lims, lims)"
      ],
      "execution_count": null,
      "outputs": [
        {
          "output_type": "display_data",
          "data": {
            "image/png": "[encoded data removed]",
            "text/plain": [
              "<Figure size 432x288 with 1 Axes>"
            ]
          },
          "metadata": {
            "tags": [],
            "needs_background": "light"
          }
        }
      ]
    },
    {
      "cell_type": "markdown",
      "metadata": {
        "id": "dI6hzYWOQ-8g"
      },
      "source": [
        "**XGBoost Regressor**"
      ]
    },
    {
      "cell_type": "code",
      "metadata": {
        "id": "JJfJo8BbYSMT",
        "outputId": "c40a0cf4-6c6f-43a8-e02f-728ba9e7cd11",
        "colab": {
          "base_uri": "https://localhost:8080/",
          "height": 51
        }
      },
      "source": [
        "from sklearn.metrics import make_scorer, r2_score, mean_squared_error\n",
        "import xgboost as xgb\n",
        "from xgboost import XGBRegressor \n",
        "model = xgb.XGBRegressor(objective ='reg:squarederror', colsample_bytree = 0.9, learning_rate = 0.01,\n",
        "                max_depth = 12, alpha = 0.1, n_estimators = 150,subsample=1,random_state=42,scoring=make_scorer(r2_score),verbose=1)\n",
        "model.fit(X_train,y_train)\n",
        "y_pred_xg=model.predict(X_test)\n",
        "\n",
        "# Root Squared Error\n",
        "print(metrics.mean_squared_error(y_test,y_pred_xg))\n",
        "print(metrics.r2_score(y_test,y_pred_xg))\n"
      ],
      "execution_count": null,
      "outputs": [
        {
          "output_type": "stream",
          "text": [
            "0.013986030285204573\n",
            "0.4095804306544487\n"
          ],
          "name": "stdout"
        }
      ]
    },
    {
      "cell_type": "markdown",
      "metadata": {
        "id": "fVvJ5qCVRD0V"
      },
      "source": [
        "MSE: 0.0139\n",
        "\n",
        "R2_score : 0.4095\n",
        "\n",
        "Plotting the graph and fitting the line"
      ]
    },
    {
      "cell_type": "code",
      "metadata": {
        "id": "PKJn4OitvKFb",
        "outputId": "aaa92604-aced-45cc-b376-9566e14546dd",
        "colab": {
          "base_uri": "https://localhost:8080/",
          "height": 283
        }
      },
      "source": [
        "a = plt.axes(aspect='equal')\n",
        "plt.scatter(y_test, y_pred_xg)\n",
        "plt.xlabel('True Values ')\n",
        "plt.ylabel('Predictions')\n",
        "lims = [0,1]\n",
        "plt.xlim(lims)\n",
        "plt.ylim(lims)\n",
        "_ = plt.plot(lims, lims)"
      ],
      "execution_count": null,
      "outputs": [
        {
          "output_type": "display_data",
          "data": {
            "image/png": "[encoded data removed]",
            "text/plain": [
              "<Figure size 432x288 with 1 Axes>"
            ]
          },
          "metadata": {
            "tags": [],
            "needs_background": "light"
          }
        }
      ]
    },
    {
      "cell_type": "markdown",
      "metadata": {
        "id": "cYxLmfv6Rj2R"
      },
      "source": [
        "GridSearch **CV**"
      ]
    },
    {
      "cell_type": "code",
      "metadata": {
        "id": "Kj6Us6WHsUAG",
        "outputId": "c5d1046c-57d0-49eb-ab88-caf95d5e32f7",
        "colab": {
          "base_uri": "https://localhost:8080/",
          "height": 85
        }
      },
      "source": [
        "from sklearn import svm\n",
        "from sklearn.model_selection import GridSearchCV\n",
        "xgb_model = xgb.XGBRegressor(objective='reg:squarederror', verbose=False)\n",
        "reg = GridSearchCV(estimator=xgb_model,  \n",
        "                   scoring=make_scorer(r2_score),\n",
        "                   param_grid= {'max_depth': [8], 'n_estimators': [150]}, \n",
        "                   verbose=True)\n",
        "\n",
        "reg.fit(X_train, y_train)\n",
        "y_pred_cv=reg.predict(X_test)\n",
        "\n",
        "reg.best_score_"
      ],
      "execution_count": null,
      "outputs": [
        {
          "output_type": "stream",
          "text": [
            "Fitting 5 folds for each of 1 candidates, totalling 5 fits\n"
          ],
          "name": "stdout"
        },
        {
          "output_type": "stream",
          "text": [
            "[Parallel(n_jobs=1)]: Using backend SequentialBackend with 1 concurrent workers.\n",
            "[Parallel(n_jobs=1)]: Done   5 out of   5 | elapsed:    0.1s finished\n"
          ],
          "name": "stderr"
        },
        {
          "output_type": "execute_result",
          "data": {
            "text/plain": [
              "0.40972649472219186"
            ]
          },
          "metadata": {
            "tags": []
          },
          "execution_count": 95
        }
      ]
    },
    {
      "cell_type": "markdown",
      "metadata": {
        "id": "iu8azjgDRo3j"
      },
      "source": [
        "\n",
        "\n",
        "R2_score : 0.4097\n",
        "\n",
        "Plotting the graph and fitting the line"
      ]
    },
    {
      "cell_type": "code",
      "metadata": {
        "id": "SYwlCLT0vcvw",
        "outputId": "9a94c7bf-d12c-469d-9e29-d6053aa3d0cd",
        "colab": {
          "base_uri": "https://localhost:8080/",
          "height": 283
        }
      },
      "source": [
        "a = plt.axes(aspect='equal')\n",
        "plt.scatter(y_test, y_pred_cv)\n",
        "plt.xlabel('True Values ')\n",
        "plt.ylabel('Predictions')\n",
        "lims = [0,1]\n",
        "plt.xlim(lims)\n",
        "plt.ylim(lims)\n",
        "_ = plt.plot(lims, lims)"
      ],
      "execution_count": null,
      "outputs": [
        {
          "output_type": "display_data",
          "data": {
            "image/png": "[encoded data removed]",
            "text/plain": [
              "<Figure size 432x288 with 1 Axes>"
            ]
          },
          "metadata": {
            "tags": [],
            "needs_background": "light"
          }
        }
      ]
    },
    {
      "cell_type": "markdown",
      "metadata": {
        "id": "TTBcuz4yRzY6"
      },
      "source": [
        "#### **Artificial Neural Network **"
      ]
    },
    {
      "cell_type": "markdown",
      "metadata": {
        "id": "Sfa1LvV1R7so"
      },
      "source": [
        "Installing the libraries required and the importing the required libraries \n"
      ]
    },
    {
      "cell_type": "code",
      "metadata": {
        "id": "LtbPWtI_oZ8f",
        "outputId": "4a8077e4-ba3e-44c9-baca-054fa28fb7b8",
        "colab": {
          "base_uri": "https://localhost:8080/",
          "height": 309
        }
      },
      "source": [
        "pip install git+https://github.com/tensorflow/docs"
      ],
      "execution_count": null,
      "outputs": [
        {
          "output_type": "stream",
          "text": [
            "Collecting git+https://github.com/tensorflow/docs\n",
            "  Cloning https://github.com/tensorflow/docs to /tmp/pip-req-build-y4anrzrt\n",
            "  Running command git clone -q https://github.com/tensorflow/docs /tmp/pip-req-build-y4anrzrt\n",
            "Requirement already satisfied: astor in /usr/local/lib/python3.6/dist-packages (from tensorflow-docs===0.0.0c185f9ef2d3eed3d6afa48babc4b3e30dee1eb3f-) (0.8.1)\n",
            "Requirement already satisfied: absl-py in /usr/local/lib/python3.6/dist-packages (from tensorflow-docs===0.0.0c185f9ef2d3eed3d6afa48babc4b3e30dee1eb3f-) (0.10.0)\n",
            "Requirement already satisfied: protobuf in /usr/local/lib/python3.6/dist-packages (from tensorflow-docs===0.0.0c185f9ef2d3eed3d6afa48babc4b3e30dee1eb3f-) (3.12.4)\n",
            "Requirement already satisfied: pyyaml in /usr/local/lib/python3.6/dist-packages (from tensorflow-docs===0.0.0c185f9ef2d3eed3d6afa48babc4b3e30dee1eb3f-) (3.13)\n",
            "Requirement already satisfied: six in /usr/local/lib/python3.6/dist-packages (from absl-py->tensorflow-docs===0.0.0c185f9ef2d3eed3d6afa48babc4b3e30dee1eb3f-) (1.15.0)\n",
            "Requirement already satisfied: setuptools in /usr/local/lib/python3.6/dist-packages (from protobuf->tensorflow-docs===0.0.0c185f9ef2d3eed3d6afa48babc4b3e30dee1eb3f-) (50.3.0)\n",
            "Building wheels for collected packages: tensorflow-docs\n",
            "  Building wheel for tensorflow-docs (setup.py) ... \u001b[?25l\u001b[?25hdone\n",
            "  Created wheel for tensorflow-docs: filename=tensorflow_docs-0.0.0c185f9ef2d3eed3d6afa48babc4b3e30dee1eb3f_-cp36-none-any.whl size=143515 sha256=30a61ee5aeb5da2538fef38fb8d454844b700881643412513d05863451a2083e\n",
            "  Stored in directory: /tmp/pip-ephem-wheel-cache-5wti3tye/wheels/eb/1b/35/fce87697be00d2fc63e0b4b395b0d9c7e391a10e98d9a0d97f\n",
            "Successfully built tensorflow-docs\n",
            "Installing collected packages: tensorflow-docs\n",
            "Successfully installed tensorflow-docs-0.0.0c185f9ef2d3eed3d6afa48babc4b3e30dee1eb3f-\n"
          ],
          "name": "stdout"
        }
      ]
    },
    {
      "cell_type": "code",
      "metadata": {
        "id": "ZR-KkaW-oB8Q"
      },
      "source": [
        "import tensorflow as tf\n",
        "\n",
        "from tensorflow import keras\n",
        "from tensorflow.keras import layers\n",
        "import tensorflow_docs as tfdocs\n",
        "import tensorflow_docs.plots\n",
        "import tensorflow_docs.modeling"
      ],
      "execution_count": null,
      "outputs": []
    },
    {
      "cell_type": "markdown",
      "metadata": {
        "id": "m8RPDg7HSLYq"
      },
      "source": [
        "Devolping the model with 10 input layers,1 hidden layers and 1 output layer\n",
        "\n",
        "RMSProp is use as an optimizer and relu as activation function\n"
      ]
    },
    {
      "cell_type": "code",
      "metadata": {
        "id": "ewI-Lra1wajW",
        "outputId": "8a4df837-238a-49c3-87d1-8006b8d7eb4e",
        "colab": {
          "base_uri": "https://localhost:8080/",
          "height": 289
        }
      },
      "source": [
        "from keras.models import Sequential\n",
        "from keras.layers import Dense\n",
        "from keras.wrappers.scikit_learn import KerasRegressor\n",
        "from sklearn.model_selection import cross_val_score\n",
        "from sklearn.model_selection import KFold\n",
        "# define base model\n",
        "def baseline_model():\n",
        "\tmodel=Sequential()\n",
        "\tmodel.add(Dense(10,input_dim=10,kernel_initializer='normal',activation='relu'))\n",
        "\tmodel.add(Dense(10,kernel_initializer='normal',activation='relu'))\n",
        "\tmodel.add(Dense(5,kernel_initializer='normal',activation='relu'))\n",
        "\tmodel.add(Dense(1, kernel_initializer='normal'))\n",
        "\tmodel.compile(loss='mse',optimizer='RMSprop',metrics=['mse','mae'])\n",
        "\treturn model\n",
        "\n",
        "\n",
        "\n",
        "\t\n",
        "model=baseline_model()\n",
        "model.summary()\n"
      ],
      "execution_count": null,
      "outputs": [
        {
          "output_type": "stream",
          "text": [
            "Model: \"sequential_23\"\n",
            "_________________________________________________________________\n",
            "Layer (type)                 Output Shape              Param #   \n",
            "=================================================================\n",
            "dense_58 (Dense)             (None, 10)                110       \n",
            "_________________________________________________________________\n",
            "dense_59 (Dense)             (None, 10)                110       \n",
            "_________________________________________________________________\n",
            "dense_60 (Dense)             (None, 5)                 55        \n",
            "_________________________________________________________________\n",
            "dense_61 (Dense)             (None, 1)                 6         \n",
            "=================================================================\n",
            "Total params: 281\n",
            "Trainable params: 281\n",
            "Non-trainable params: 0\n",
            "_________________________________________________________________\n"
          ],
          "name": "stdout"
        }
      ]
    },
    {
      "cell_type": "markdown",
      "metadata": {
        "id": "eY_xorTyShqJ"
      },
      "source": [
        "Running the above model for 1000 epoches and determing the mse and mae values"
      ]
    },
    {
      "cell_type": "code",
      "metadata": {
        "id": "4VKC3_cnnheg",
        "outputId": "f7459423-9832-4e00-e89c-726baa4f393f",
        "colab": {
          "base_uri": "https://localhost:8080/",
          "height": 374
        }
      },
      "source": [
        "EPOCHS = 1000\n",
        "\n",
        "history = model.fit(X_train,y_train,\n",
        "  epochs=EPOCHS, validation_split = 0.2, verbose=0,\n",
        "  callbacks=[tfdocs.modeling.EpochDots()])"
      ],
      "execution_count": null,
      "outputs": [
        {
          "output_type": "stream",
          "text": [
            "\n",
            "Epoch: 0, loss:0.2129,  mae:0.4050,  mse:0.2129,  val_loss:0.2720,  val_mae:0.4524,  val_mse:0.2720,  \n",
            "....................................................................................................\n",
            "Epoch: 100, loss:0.0462,  mae:0.1653,  mse:0.0462,  val_loss:0.0728,  val_mae:0.2178,  val_mse:0.0728,  \n",
            "....................................................................................................\n",
            "Epoch: 200, loss:0.0370,  mae:0.1428,  mse:0.0370,  val_loss:0.0675,  val_mae:0.1886,  val_mse:0.0675,  \n",
            "....................................................................................................\n",
            "Epoch: 300, loss:0.0333,  mae:0.1292,  mse:0.0333,  val_loss:0.0689,  val_mae:0.1812,  val_mse:0.0689,  \n",
            "....................................................................................................\n",
            "Epoch: 400, loss:0.0311,  mae:0.1209,  mse:0.0311,  val_loss:0.0679,  val_mae:0.1788,  val_mse:0.0679,  \n",
            "....................................................................................................\n",
            "Epoch: 500, loss:0.0284,  mae:0.1104,  mse:0.0284,  val_loss:0.0738,  val_mae:0.2022,  val_mse:0.0738,  \n",
            "....................................................................................................\n",
            "Epoch: 600, loss:0.0269,  mae:0.1042,  mse:0.0269,  val_loss:0.0603,  val_mae:0.1727,  val_mse:0.0603,  \n",
            "....................................................................................................\n",
            "Epoch: 700, loss:0.0252,  mae:0.0954,  mse:0.0252,  val_loss:0.0606,  val_mae:0.1868,  val_mse:0.0606,  \n",
            "....................................................................................................\n",
            "Epoch: 800, loss:0.0240,  mae:0.0926,  mse:0.0240,  val_loss:0.0551,  val_mae:0.1783,  val_mse:0.0551,  \n",
            "....................................................................................................\n",
            "Epoch: 900, loss:0.0230,  mae:0.0906,  mse:0.0230,  val_loss:0.0502,  val_mae:0.1730,  val_mse:0.0502,  \n",
            "...................................................................................................."
          ],
          "name": "stdout"
        }
      ]
    },
    {
      "cell_type": "code",
      "metadata": {
        "id": "EpeJr1gHon_g",
        "outputId": "45e04187-647e-4f02-87a5-a7494c778570",
        "colab": {
          "base_uri": "https://localhost:8080/",
          "height": 419
        }
      },
      "source": [
        "hist = pd.DataFrame(history.history)\n",
        "hist['epoch'] = history.epoch\n",
        "hist"
      ],
      "execution_count": null,
      "outputs": [
        {
          "output_type": "execute_result",
          "data": {
            "text/html": [
              "<div>\n",
              "<style scoped>\n",
              "    .dataframe tbody tr th:only-of-type {\n",
              "        vertical-align: middle;\n",
              "    }\n",
              "\n",
              "    .dataframe tbody tr th {\n",
              "        vertical-align: top;\n",
              "    }\n",
              "\n",
              "    .dataframe thead th {\n",
              "        text-align: right;\n",
              "    }\n",
              "</style>\n",
              "<table border=\"1\" class=\"dataframe\">\n",
              "  <thead>\n",
              "    <tr style=\"text-align: right;\">\n",
              "      <th></th>\n",
              "      <th>loss</th>\n",
              "      <th>mse</th>\n",
              "      <th>mae</th>\n",
              "      <th>val_loss</th>\n",
              "      <th>val_mse</th>\n",
              "      <th>val_mae</th>\n",
              "      <th>epoch</th>\n",
              "    </tr>\n",
              "  </thead>\n",
              "  <tbody>\n",
              "    <tr>\n",
              "      <th>0</th>\n",
              "      <td>0.212927</td>\n",
              "      <td>0.212927</td>\n",
              "      <td>0.405030</td>\n",
              "      <td>0.272029</td>\n",
              "      <td>0.272029</td>\n",
              "      <td>0.452371</td>\n",
              "      <td>0</td>\n",
              "    </tr>\n",
              "    <tr>\n",
              "      <th>1</th>\n",
              "      <td>0.207581</td>\n",
              "      <td>0.207581</td>\n",
              "      <td>0.398453</td>\n",
              "      <td>0.267436</td>\n",
              "      <td>0.267436</td>\n",
              "      <td>0.448278</td>\n",
              "      <td>1</td>\n",
              "    </tr>\n",
              "    <tr>\n",
              "      <th>2</th>\n",
              "      <td>0.203590</td>\n",
              "      <td>0.203590</td>\n",
              "      <td>0.393383</td>\n",
              "      <td>0.263720</td>\n",
              "      <td>0.263720</td>\n",
              "      <td>0.444932</td>\n",
              "      <td>2</td>\n",
              "    </tr>\n",
              "    <tr>\n",
              "      <th>3</th>\n",
              "      <td>0.200288</td>\n",
              "      <td>0.200288</td>\n",
              "      <td>0.389193</td>\n",
              "      <td>0.260059</td>\n",
              "      <td>0.260059</td>\n",
              "      <td>0.441606</td>\n",
              "      <td>3</td>\n",
              "    </tr>\n",
              "    <tr>\n",
              "      <th>4</th>\n",
              "      <td>0.197107</td>\n",
              "      <td>0.197107</td>\n",
              "      <td>0.385025</td>\n",
              "      <td>0.256926</td>\n",
              "      <td>0.256926</td>\n",
              "      <td>0.438737</td>\n",
              "      <td>4</td>\n",
              "    </tr>\n",
              "    <tr>\n",
              "      <th>...</th>\n",
              "      <td>...</td>\n",
              "      <td>...</td>\n",
              "      <td>...</td>\n",
              "      <td>...</td>\n",
              "      <td>...</td>\n",
              "      <td>...</td>\n",
              "      <td>...</td>\n",
              "    </tr>\n",
              "    <tr>\n",
              "      <th>995</th>\n",
              "      <td>0.021957</td>\n",
              "      <td>0.021957</td>\n",
              "      <td>0.088193</td>\n",
              "      <td>0.044338</td>\n",
              "      <td>0.044338</td>\n",
              "      <td>0.166927</td>\n",
              "      <td>995</td>\n",
              "    </tr>\n",
              "    <tr>\n",
              "      <th>996</th>\n",
              "      <td>0.021909</td>\n",
              "      <td>0.021909</td>\n",
              "      <td>0.089284</td>\n",
              "      <td>0.042926</td>\n",
              "      <td>0.042926</td>\n",
              "      <td>0.162321</td>\n",
              "      <td>996</td>\n",
              "    </tr>\n",
              "    <tr>\n",
              "      <th>997</th>\n",
              "      <td>0.021925</td>\n",
              "      <td>0.021925</td>\n",
              "      <td>0.087691</td>\n",
              "      <td>0.042767</td>\n",
              "      <td>0.042767</td>\n",
              "      <td>0.161849</td>\n",
              "      <td>997</td>\n",
              "    </tr>\n",
              "    <tr>\n",
              "      <th>998</th>\n",
              "      <td>0.021915</td>\n",
              "      <td>0.021915</td>\n",
              "      <td>0.087288</td>\n",
              "      <td>0.045390</td>\n",
              "      <td>0.045390</td>\n",
              "      <td>0.170530</td>\n",
              "      <td>998</td>\n",
              "    </tr>\n",
              "    <tr>\n",
              "      <th>999</th>\n",
              "      <td>0.021948</td>\n",
              "      <td>0.021948</td>\n",
              "      <td>0.090149</td>\n",
              "      <td>0.040318</td>\n",
              "      <td>0.040318</td>\n",
              "      <td>0.154495</td>\n",
              "      <td>999</td>\n",
              "    </tr>\n",
              "  </tbody>\n",
              "</table>\n",
              "<p>1000 rows × 7 columns</p>\n",
              "</div>"
            ],
            "text/plain": [
              "         loss       mse       mae  val_loss   val_mse   val_mae  epoch\n",
              "0    0.212927  0.212927  0.405030  0.272029  0.272029  0.452371      0\n",
              "1    0.207581  0.207581  0.398453  0.267436  0.267436  0.448278      1\n",
              "2    0.203590  0.203590  0.393383  0.263720  0.263720  0.444932      2\n",
              "3    0.200288  0.200288  0.389193  0.260059  0.260059  0.441606      3\n",
              "4    0.197107  0.197107  0.385025  0.256926  0.256926  0.438737      4\n",
              "..        ...       ...       ...       ...       ...       ...    ...\n",
              "995  0.021957  0.021957  0.088193  0.044338  0.044338  0.166927    995\n",
              "996  0.021909  0.021909  0.089284  0.042926  0.042926  0.162321    996\n",
              "997  0.021925  0.021925  0.087691  0.042767  0.042767  0.161849    997\n",
              "998  0.021915  0.021915  0.087288  0.045390  0.045390  0.170530    998\n",
              "999  0.021948  0.021948  0.090149  0.040318  0.040318  0.154495    999\n",
              "\n",
              "[1000 rows x 7 columns]"
            ]
          },
          "metadata": {
            "tags": []
          },
          "execution_count": 161
        }
      ]
    },
    {
      "cell_type": "markdown",
      "metadata": {
        "id": "m-LmP91nStDs"
      },
      "source": [
        "Finally fitting the data for the ANN model"
      ]
    },
    {
      "cell_type": "code",
      "metadata": {
        "id": "Gq2b18A5rpbB",
        "outputId": "70807fd4-89bb-4824-85d5-cb769b474392",
        "colab": {
          "base_uri": "https://localhost:8080/",
          "height": 283
        }
      },
      "source": [
        "test_predictions = model.predict(X_test)\n",
        "\n",
        "a = plt.axes(aspect='equal')\n",
        "plt.scatter(y_test, test_predictions)\n",
        "plt.xlabel('True Values ')\n",
        "plt.ylabel('Predictions')\n",
        "lims = [0,1]\n",
        "plt.xlim(lims)\n",
        "plt.ylim(lims)\n",
        "_ = plt.plot(lims, lims)"
      ],
      "execution_count": null,
      "outputs": [
        {
          "output_type": "display_data",
          "data": {
            "image/png": "[encoded data removed]",
            "text/plain": [
              "<Figure size 432x288 with 1 Axes>"
            ]
          },
          "metadata": {
            "tags": [],
            "needs_background": "light"
          }
        }
      ]
    },
    {
      "cell_type": "markdown",
      "metadata": {
        "id": "dX-vxui1S2AV"
      },
      "source": [
        "Visualizing how MAE and MSE values have been optimized by the model with the number of epoches"
      ]
    },
    {
      "cell_type": "code",
      "metadata": {
        "id": "qRgtS_Moo1Ki",
        "outputId": "92f2f792-d1c1-4826-f8ad-9af257b33821",
        "colab": {
          "base_uri": "https://localhost:8080/",
          "height": 296
        }
      },
      "source": [
        "plotter = tfdocs.plots.HistoryPlotter(smoothing_std=2)\n",
        "plotter.plot({'Basic': history}, metric = \"mae\")\n",
        "plt.ylim([-0.5,0.5])\n",
        "plt.ylabel('MAE')"
      ],
      "execution_count": null,
      "outputs": [
        {
          "output_type": "execute_result",
          "data": {
            "text/plain": [
              "Text(0, 0.5, 'MAE')"
            ]
          },
          "metadata": {
            "tags": []
          },
          "execution_count": 171
        },
        {
          "output_type": "display_data",
          "data": {
            "image/png": "[encoded data removed]",
            "text/plain": [
              "<Figure size 432x288 with 1 Axes>"
            ]
          },
          "metadata": {
            "tags": [],
            "needs_background": "light"
          }
        }
      ]
    },
    {
      "cell_type": "code",
      "metadata": {
        "id": "iRR5zsnLpWv1",
        "outputId": "e2a5e727-1a63-4ac5-b628-9a002ec379a8",
        "colab": {
          "base_uri": "https://localhost:8080/",
          "height": 296
        }
      },
      "source": [
        "plotter.plot({'Basic': history}, metric = \"mse\")\n",
        "plt.ylim([-0.5,0.5])\n",
        "plt.ylabel('MSE')"
      ],
      "execution_count": null,
      "outputs": [
        {
          "output_type": "execute_result",
          "data": {
            "text/plain": [
              "Text(0, 0.5, 'MSE')"
            ]
          },
          "metadata": {
            "tags": []
          },
          "execution_count": 164
        },
        {
          "output_type": "display_data",
          "data": {
            "image/png": "[encoded data removed]",
            "text/plain": [
              "<Figure size 432x288 with 1 Axes>"
            ]
          },
          "metadata": {
            "tags": [],
            "needs_background": "light"
          }
        }
      ]
    },
    {
      "cell_type": "markdown",
      "metadata": {
        "id": "sWBS6c-1TKSd"
      },
      "source": [
        "Finally we can see how different models works and they reduced the MSE."
      ]
    },
    {
      "cell_type": "code",
      "metadata": {
        "id": "QCB2bHLtTUw0"
      },
      "source": [
        ""
      ],
      "execution_count": null,
      "outputs": []
    }
  ]
}